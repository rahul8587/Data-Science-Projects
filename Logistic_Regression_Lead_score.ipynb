{
 "cells": [
  {
   "cell_type": "markdown",
   "metadata": {},
   "source": [
    "# Lead Scoring Assignment \n"
   ]
  },
  {
   "cell_type": "markdown",
   "metadata": {},
   "source": [
    "###### Problem Definition\n",
    "1. How to increase the conversion rate to around 80% of the provided leads, without leaving too much true leads undetected.  Higher conversion with high revenue\n",
    "2. Get a lead score each of the leads which can be used by the company to target potential leads\n",
    "\n",
    "###### DS problem Definintion\n",
    "\n",
    "1. Build logistic regression model to assign a lead score between 0 and 100 \n",
    "2. Find the optimal features that give a highest optimal precision and recall score.\n"
   ]
  },
  {
   "cell_type": "code",
   "execution_count": 2,
   "metadata": {},
   "outputs": [],
   "source": [
    "import pandas as pd\n",
    "import numpy as np\n",
    "import matplotlib.pyplot as plt\n",
    "import seaborn as sns\n",
    "\n",
    "\n",
    "\n",
    "from sklearn.preprocessing import MinMaxScaler\n",
    "from sklearn.linear_model import LogisticRegression\n",
    "from sklearn.feature_selection import RFE\n",
    "from sklearn import metrics\n",
    "from sklearn.metrics import precision_recall_curve\n",
    "from sklearn.model_selection import train_test_split\n",
    "\n",
    "import statsmodels.api as sm\n",
    "from statsmodels.stats.outliers_influence import variance_inflation_factor\n",
    "\n",
    "# Suppressing Warnings\n",
    "import warnings\n",
    "warnings.filterwarnings('ignore')"
   ]
  },
  {
   "cell_type": "code",
   "execution_count": 3,
   "metadata": {
    "scrolled": false
   },
   "outputs": [
    {
     "data": {
      "text/html": [
       "<div>\n",
       "<style scoped>\n",
       "    .dataframe tbody tr th:only-of-type {\n",
       "        vertical-align: middle;\n",
       "    }\n",
       "\n",
       "    .dataframe tbody tr th {\n",
       "        vertical-align: top;\n",
       "    }\n",
       "\n",
       "    .dataframe thead th {\n",
       "        text-align: right;\n",
       "    }\n",
       "</style>\n",
       "<table border=\"1\" class=\"dataframe\">\n",
       "  <thead>\n",
       "    <tr style=\"text-align: right;\">\n",
       "      <th></th>\n",
       "      <th>Prospect ID</th>\n",
       "      <th>Lead Number</th>\n",
       "      <th>Lead Origin</th>\n",
       "      <th>Lead Source</th>\n",
       "      <th>Do Not Email</th>\n",
       "      <th>Do Not Call</th>\n",
       "      <th>Converted</th>\n",
       "      <th>TotalVisits</th>\n",
       "      <th>Total Time Spent on Website</th>\n",
       "      <th>Page Views Per Visit</th>\n",
       "      <th>...</th>\n",
       "      <th>Get updates on DM Content</th>\n",
       "      <th>Lead Profile</th>\n",
       "      <th>City</th>\n",
       "      <th>Asymmetrique Activity Index</th>\n",
       "      <th>Asymmetrique Profile Index</th>\n",
       "      <th>Asymmetrique Activity Score</th>\n",
       "      <th>Asymmetrique Profile Score</th>\n",
       "      <th>I agree to pay the amount through cheque</th>\n",
       "      <th>A free copy of Mastering The Interview</th>\n",
       "      <th>Last Notable Activity</th>\n",
       "    </tr>\n",
       "  </thead>\n",
       "  <tbody>\n",
       "    <tr>\n",
       "      <td>0</td>\n",
       "      <td>7927b2df-8bba-4d29-b9a2-b6e0beafe620</td>\n",
       "      <td>660737</td>\n",
       "      <td>API</td>\n",
       "      <td>Olark Chat</td>\n",
       "      <td>No</td>\n",
       "      <td>No</td>\n",
       "      <td>0</td>\n",
       "      <td>0.0</td>\n",
       "      <td>0</td>\n",
       "      <td>0.0</td>\n",
       "      <td>...</td>\n",
       "      <td>No</td>\n",
       "      <td>Select</td>\n",
       "      <td>Select</td>\n",
       "      <td>02.Medium</td>\n",
       "      <td>02.Medium</td>\n",
       "      <td>15.0</td>\n",
       "      <td>15.0</td>\n",
       "      <td>No</td>\n",
       "      <td>No</td>\n",
       "      <td>Modified</td>\n",
       "    </tr>\n",
       "    <tr>\n",
       "      <td>1</td>\n",
       "      <td>2a272436-5132-4136-86fa-dcc88c88f482</td>\n",
       "      <td>660728</td>\n",
       "      <td>API</td>\n",
       "      <td>Organic Search</td>\n",
       "      <td>No</td>\n",
       "      <td>No</td>\n",
       "      <td>0</td>\n",
       "      <td>5.0</td>\n",
       "      <td>674</td>\n",
       "      <td>2.5</td>\n",
       "      <td>...</td>\n",
       "      <td>No</td>\n",
       "      <td>Select</td>\n",
       "      <td>Select</td>\n",
       "      <td>02.Medium</td>\n",
       "      <td>02.Medium</td>\n",
       "      <td>15.0</td>\n",
       "      <td>15.0</td>\n",
       "      <td>No</td>\n",
       "      <td>No</td>\n",
       "      <td>Email Opened</td>\n",
       "    </tr>\n",
       "    <tr>\n",
       "      <td>2</td>\n",
       "      <td>8cc8c611-a219-4f35-ad23-fdfd2656bd8a</td>\n",
       "      <td>660727</td>\n",
       "      <td>Landing Page Submission</td>\n",
       "      <td>Direct Traffic</td>\n",
       "      <td>No</td>\n",
       "      <td>No</td>\n",
       "      <td>1</td>\n",
       "      <td>2.0</td>\n",
       "      <td>1532</td>\n",
       "      <td>2.0</td>\n",
       "      <td>...</td>\n",
       "      <td>No</td>\n",
       "      <td>Potential Lead</td>\n",
       "      <td>Mumbai</td>\n",
       "      <td>02.Medium</td>\n",
       "      <td>01.High</td>\n",
       "      <td>14.0</td>\n",
       "      <td>20.0</td>\n",
       "      <td>No</td>\n",
       "      <td>Yes</td>\n",
       "      <td>Email Opened</td>\n",
       "    </tr>\n",
       "    <tr>\n",
       "      <td>3</td>\n",
       "      <td>0cc2df48-7cf4-4e39-9de9-19797f9b38cc</td>\n",
       "      <td>660719</td>\n",
       "      <td>Landing Page Submission</td>\n",
       "      <td>Direct Traffic</td>\n",
       "      <td>No</td>\n",
       "      <td>No</td>\n",
       "      <td>0</td>\n",
       "      <td>1.0</td>\n",
       "      <td>305</td>\n",
       "      <td>1.0</td>\n",
       "      <td>...</td>\n",
       "      <td>No</td>\n",
       "      <td>Select</td>\n",
       "      <td>Mumbai</td>\n",
       "      <td>02.Medium</td>\n",
       "      <td>01.High</td>\n",
       "      <td>13.0</td>\n",
       "      <td>17.0</td>\n",
       "      <td>No</td>\n",
       "      <td>No</td>\n",
       "      <td>Modified</td>\n",
       "    </tr>\n",
       "    <tr>\n",
       "      <td>4</td>\n",
       "      <td>3256f628-e534-4826-9d63-4a8b88782852</td>\n",
       "      <td>660681</td>\n",
       "      <td>Landing Page Submission</td>\n",
       "      <td>Google</td>\n",
       "      <td>No</td>\n",
       "      <td>No</td>\n",
       "      <td>1</td>\n",
       "      <td>2.0</td>\n",
       "      <td>1428</td>\n",
       "      <td>1.0</td>\n",
       "      <td>...</td>\n",
       "      <td>No</td>\n",
       "      <td>Select</td>\n",
       "      <td>Mumbai</td>\n",
       "      <td>02.Medium</td>\n",
       "      <td>01.High</td>\n",
       "      <td>15.0</td>\n",
       "      <td>18.0</td>\n",
       "      <td>No</td>\n",
       "      <td>No</td>\n",
       "      <td>Modified</td>\n",
       "    </tr>\n",
       "  </tbody>\n",
       "</table>\n",
       "<p>5 rows × 37 columns</p>\n",
       "</div>"
      ],
      "text/plain": [
       "                            Prospect ID  Lead Number              Lead Origin  \\\n",
       "0  7927b2df-8bba-4d29-b9a2-b6e0beafe620       660737                      API   \n",
       "1  2a272436-5132-4136-86fa-dcc88c88f482       660728                      API   \n",
       "2  8cc8c611-a219-4f35-ad23-fdfd2656bd8a       660727  Landing Page Submission   \n",
       "3  0cc2df48-7cf4-4e39-9de9-19797f9b38cc       660719  Landing Page Submission   \n",
       "4  3256f628-e534-4826-9d63-4a8b88782852       660681  Landing Page Submission   \n",
       "\n",
       "      Lead Source Do Not Email Do Not Call  Converted  TotalVisits  \\\n",
       "0      Olark Chat           No          No          0          0.0   \n",
       "1  Organic Search           No          No          0          5.0   \n",
       "2  Direct Traffic           No          No          1          2.0   \n",
       "3  Direct Traffic           No          No          0          1.0   \n",
       "4          Google           No          No          1          2.0   \n",
       "\n",
       "   Total Time Spent on Website  Page Views Per Visit  ...  \\\n",
       "0                            0                   0.0  ...   \n",
       "1                          674                   2.5  ...   \n",
       "2                         1532                   2.0  ...   \n",
       "3                          305                   1.0  ...   \n",
       "4                         1428                   1.0  ...   \n",
       "\n",
       "  Get updates on DM Content    Lead Profile    City  \\\n",
       "0                        No          Select  Select   \n",
       "1                        No          Select  Select   \n",
       "2                        No  Potential Lead  Mumbai   \n",
       "3                        No          Select  Mumbai   \n",
       "4                        No          Select  Mumbai   \n",
       "\n",
       "  Asymmetrique Activity Index Asymmetrique Profile Index  \\\n",
       "0                   02.Medium                  02.Medium   \n",
       "1                   02.Medium                  02.Medium   \n",
       "2                   02.Medium                    01.High   \n",
       "3                   02.Medium                    01.High   \n",
       "4                   02.Medium                    01.High   \n",
       "\n",
       "  Asymmetrique Activity Score Asymmetrique Profile Score  \\\n",
       "0                        15.0                       15.0   \n",
       "1                        15.0                       15.0   \n",
       "2                        14.0                       20.0   \n",
       "3                        13.0                       17.0   \n",
       "4                        15.0                       18.0   \n",
       "\n",
       "  I agree to pay the amount through cheque  \\\n",
       "0                                       No   \n",
       "1                                       No   \n",
       "2                                       No   \n",
       "3                                       No   \n",
       "4                                       No   \n",
       "\n",
       "  A free copy of Mastering The Interview Last Notable Activity  \n",
       "0                                     No              Modified  \n",
       "1                                     No          Email Opened  \n",
       "2                                    Yes          Email Opened  \n",
       "3                                     No              Modified  \n",
       "4                                     No              Modified  \n",
       "\n",
       "[5 rows x 37 columns]"
      ]
     },
     "execution_count": 3,
     "metadata": {},
     "output_type": "execute_result"
    }
   ],
   "source": [
    "# creation of leads dataframe from the csv file\n",
    "\n",
    "leads = pd.read_csv('Leads.csv')\n",
    "leads.head()"
   ]
  },
  {
   "cell_type": "code",
   "execution_count": 4,
   "metadata": {},
   "outputs": [
    {
     "name": "stdout",
     "output_type": "stream",
     "text": [
      "<class 'pandas.core.frame.DataFrame'>\n",
      "RangeIndex: 9240 entries, 0 to 9239\n",
      "Data columns (total 37 columns):\n",
      "Prospect ID                                      9240 non-null object\n",
      "Lead Number                                      9240 non-null int64\n",
      "Lead Origin                                      9240 non-null object\n",
      "Lead Source                                      9204 non-null object\n",
      "Do Not Email                                     9240 non-null object\n",
      "Do Not Call                                      9240 non-null object\n",
      "Converted                                        9240 non-null int64\n",
      "TotalVisits                                      9103 non-null float64\n",
      "Total Time Spent on Website                      9240 non-null int64\n",
      "Page Views Per Visit                             9103 non-null float64\n",
      "Last Activity                                    9137 non-null object\n",
      "Country                                          6779 non-null object\n",
      "Specialization                                   7802 non-null object\n",
      "How did you hear about X Education               7033 non-null object\n",
      "What is your current occupation                  6550 non-null object\n",
      "What matters most to you in choosing a course    6531 non-null object\n",
      "Search                                           9240 non-null object\n",
      "Magazine                                         9240 non-null object\n",
      "Newspaper Article                                9240 non-null object\n",
      "X Education Forums                               9240 non-null object\n",
      "Newspaper                                        9240 non-null object\n",
      "Digital Advertisement                            9240 non-null object\n",
      "Through Recommendations                          9240 non-null object\n",
      "Receive More Updates About Our Courses           9240 non-null object\n",
      "Tags                                             5887 non-null object\n",
      "Lead Quality                                     4473 non-null object\n",
      "Update me on Supply Chain Content                9240 non-null object\n",
      "Get updates on DM Content                        9240 non-null object\n",
      "Lead Profile                                     6531 non-null object\n",
      "City                                             7820 non-null object\n",
      "Asymmetrique Activity Index                      5022 non-null object\n",
      "Asymmetrique Profile Index                       5022 non-null object\n",
      "Asymmetrique Activity Score                      5022 non-null float64\n",
      "Asymmetrique Profile Score                       5022 non-null float64\n",
      "I agree to pay the amount through cheque         9240 non-null object\n",
      "A free copy of Mastering The Interview           9240 non-null object\n",
      "Last Notable Activity                            9240 non-null object\n",
      "dtypes: float64(4), int64(3), object(30)\n",
      "memory usage: 2.6+ MB\n"
     ]
    }
   ],
   "source": [
    "# Quick glance at the columns, datatypes\n",
    "leads.info()"
   ]
  },
  {
   "cell_type": "code",
   "execution_count": 5,
   "metadata": {
    "scrolled": true
   },
   "outputs": [
    {
     "data": {
      "text/plain": [
       "(9240, 37)"
      ]
     },
     "execution_count": 5,
     "metadata": {},
     "output_type": "execute_result"
    }
   ],
   "source": [
    "leads.shape"
   ]
  },
  {
   "cell_type": "markdown",
   "metadata": {},
   "source": [
    "### EDA"
   ]
  },
  {
   "cell_type": "markdown",
   "metadata": {},
   "source": [
    "#####  Change Select to NaN\n",
    "\n",
    "All the Select visible above are actually missing values.\n",
    "\n",
    "So we will convert all 'Select' to NaN values\n",
    "\n",
    "This will impact in calculating and analysing missing values"
   ]
  },
  {
   "cell_type": "code",
   "execution_count": 6,
   "metadata": {},
   "outputs": [
    {
     "data": {
      "text/html": [
       "<div>\n",
       "<style scoped>\n",
       "    .dataframe tbody tr th:only-of-type {\n",
       "        vertical-align: middle;\n",
       "    }\n",
       "\n",
       "    .dataframe tbody tr th {\n",
       "        vertical-align: top;\n",
       "    }\n",
       "\n",
       "    .dataframe thead th {\n",
       "        text-align: right;\n",
       "    }\n",
       "</style>\n",
       "<table border=\"1\" class=\"dataframe\">\n",
       "  <thead>\n",
       "    <tr style=\"text-align: right;\">\n",
       "      <th></th>\n",
       "      <th>Prospect ID</th>\n",
       "      <th>Lead Number</th>\n",
       "      <th>Lead Origin</th>\n",
       "      <th>Lead Source</th>\n",
       "      <th>Do Not Email</th>\n",
       "      <th>Do Not Call</th>\n",
       "      <th>Converted</th>\n",
       "      <th>TotalVisits</th>\n",
       "      <th>Total Time Spent on Website</th>\n",
       "      <th>Page Views Per Visit</th>\n",
       "      <th>...</th>\n",
       "      <th>Get updates on DM Content</th>\n",
       "      <th>Lead Profile</th>\n",
       "      <th>City</th>\n",
       "      <th>Asymmetrique Activity Index</th>\n",
       "      <th>Asymmetrique Profile Index</th>\n",
       "      <th>Asymmetrique Activity Score</th>\n",
       "      <th>Asymmetrique Profile Score</th>\n",
       "      <th>I agree to pay the amount through cheque</th>\n",
       "      <th>A free copy of Mastering The Interview</th>\n",
       "      <th>Last Notable Activity</th>\n",
       "    </tr>\n",
       "  </thead>\n",
       "  <tbody>\n",
       "    <tr>\n",
       "      <td>0</td>\n",
       "      <td>7927b2df-8bba-4d29-b9a2-b6e0beafe620</td>\n",
       "      <td>660737</td>\n",
       "      <td>API</td>\n",
       "      <td>Olark Chat</td>\n",
       "      <td>No</td>\n",
       "      <td>No</td>\n",
       "      <td>0</td>\n",
       "      <td>0.0</td>\n",
       "      <td>0</td>\n",
       "      <td>0.0</td>\n",
       "      <td>...</td>\n",
       "      <td>No</td>\n",
       "      <td>NaN</td>\n",
       "      <td>NaN</td>\n",
       "      <td>02.Medium</td>\n",
       "      <td>02.Medium</td>\n",
       "      <td>15.0</td>\n",
       "      <td>15.0</td>\n",
       "      <td>No</td>\n",
       "      <td>No</td>\n",
       "      <td>Modified</td>\n",
       "    </tr>\n",
       "    <tr>\n",
       "      <td>1</td>\n",
       "      <td>2a272436-5132-4136-86fa-dcc88c88f482</td>\n",
       "      <td>660728</td>\n",
       "      <td>API</td>\n",
       "      <td>Organic Search</td>\n",
       "      <td>No</td>\n",
       "      <td>No</td>\n",
       "      <td>0</td>\n",
       "      <td>5.0</td>\n",
       "      <td>674</td>\n",
       "      <td>2.5</td>\n",
       "      <td>...</td>\n",
       "      <td>No</td>\n",
       "      <td>NaN</td>\n",
       "      <td>NaN</td>\n",
       "      <td>02.Medium</td>\n",
       "      <td>02.Medium</td>\n",
       "      <td>15.0</td>\n",
       "      <td>15.0</td>\n",
       "      <td>No</td>\n",
       "      <td>No</td>\n",
       "      <td>Email Opened</td>\n",
       "    </tr>\n",
       "    <tr>\n",
       "      <td>2</td>\n",
       "      <td>8cc8c611-a219-4f35-ad23-fdfd2656bd8a</td>\n",
       "      <td>660727</td>\n",
       "      <td>Landing Page Submission</td>\n",
       "      <td>Direct Traffic</td>\n",
       "      <td>No</td>\n",
       "      <td>No</td>\n",
       "      <td>1</td>\n",
       "      <td>2.0</td>\n",
       "      <td>1532</td>\n",
       "      <td>2.0</td>\n",
       "      <td>...</td>\n",
       "      <td>No</td>\n",
       "      <td>Potential Lead</td>\n",
       "      <td>Mumbai</td>\n",
       "      <td>02.Medium</td>\n",
       "      <td>01.High</td>\n",
       "      <td>14.0</td>\n",
       "      <td>20.0</td>\n",
       "      <td>No</td>\n",
       "      <td>Yes</td>\n",
       "      <td>Email Opened</td>\n",
       "    </tr>\n",
       "    <tr>\n",
       "      <td>3</td>\n",
       "      <td>0cc2df48-7cf4-4e39-9de9-19797f9b38cc</td>\n",
       "      <td>660719</td>\n",
       "      <td>Landing Page Submission</td>\n",
       "      <td>Direct Traffic</td>\n",
       "      <td>No</td>\n",
       "      <td>No</td>\n",
       "      <td>0</td>\n",
       "      <td>1.0</td>\n",
       "      <td>305</td>\n",
       "      <td>1.0</td>\n",
       "      <td>...</td>\n",
       "      <td>No</td>\n",
       "      <td>NaN</td>\n",
       "      <td>Mumbai</td>\n",
       "      <td>02.Medium</td>\n",
       "      <td>01.High</td>\n",
       "      <td>13.0</td>\n",
       "      <td>17.0</td>\n",
       "      <td>No</td>\n",
       "      <td>No</td>\n",
       "      <td>Modified</td>\n",
       "    </tr>\n",
       "    <tr>\n",
       "      <td>4</td>\n",
       "      <td>3256f628-e534-4826-9d63-4a8b88782852</td>\n",
       "      <td>660681</td>\n",
       "      <td>Landing Page Submission</td>\n",
       "      <td>Google</td>\n",
       "      <td>No</td>\n",
       "      <td>No</td>\n",
       "      <td>1</td>\n",
       "      <td>2.0</td>\n",
       "      <td>1428</td>\n",
       "      <td>1.0</td>\n",
       "      <td>...</td>\n",
       "      <td>No</td>\n",
       "      <td>NaN</td>\n",
       "      <td>Mumbai</td>\n",
       "      <td>02.Medium</td>\n",
       "      <td>01.High</td>\n",
       "      <td>15.0</td>\n",
       "      <td>18.0</td>\n",
       "      <td>No</td>\n",
       "      <td>No</td>\n",
       "      <td>Modified</td>\n",
       "    </tr>\n",
       "  </tbody>\n",
       "</table>\n",
       "<p>5 rows × 37 columns</p>\n",
       "</div>"
      ],
      "text/plain": [
       "                            Prospect ID  Lead Number              Lead Origin  \\\n",
       "0  7927b2df-8bba-4d29-b9a2-b6e0beafe620       660737                      API   \n",
       "1  2a272436-5132-4136-86fa-dcc88c88f482       660728                      API   \n",
       "2  8cc8c611-a219-4f35-ad23-fdfd2656bd8a       660727  Landing Page Submission   \n",
       "3  0cc2df48-7cf4-4e39-9de9-19797f9b38cc       660719  Landing Page Submission   \n",
       "4  3256f628-e534-4826-9d63-4a8b88782852       660681  Landing Page Submission   \n",
       "\n",
       "      Lead Source Do Not Email Do Not Call  Converted  TotalVisits  \\\n",
       "0      Olark Chat           No          No          0          0.0   \n",
       "1  Organic Search           No          No          0          5.0   \n",
       "2  Direct Traffic           No          No          1          2.0   \n",
       "3  Direct Traffic           No          No          0          1.0   \n",
       "4          Google           No          No          1          2.0   \n",
       "\n",
       "   Total Time Spent on Website  Page Views Per Visit  ...  \\\n",
       "0                            0                   0.0  ...   \n",
       "1                          674                   2.5  ...   \n",
       "2                         1532                   2.0  ...   \n",
       "3                          305                   1.0  ...   \n",
       "4                         1428                   1.0  ...   \n",
       "\n",
       "  Get updates on DM Content    Lead Profile    City  \\\n",
       "0                        No             NaN     NaN   \n",
       "1                        No             NaN     NaN   \n",
       "2                        No  Potential Lead  Mumbai   \n",
       "3                        No             NaN  Mumbai   \n",
       "4                        No             NaN  Mumbai   \n",
       "\n",
       "  Asymmetrique Activity Index Asymmetrique Profile Index  \\\n",
       "0                   02.Medium                  02.Medium   \n",
       "1                   02.Medium                  02.Medium   \n",
       "2                   02.Medium                    01.High   \n",
       "3                   02.Medium                    01.High   \n",
       "4                   02.Medium                    01.High   \n",
       "\n",
       "  Asymmetrique Activity Score Asymmetrique Profile Score  \\\n",
       "0                        15.0                       15.0   \n",
       "1                        15.0                       15.0   \n",
       "2                        14.0                       20.0   \n",
       "3                        13.0                       17.0   \n",
       "4                        15.0                       18.0   \n",
       "\n",
       "  I agree to pay the amount through cheque  \\\n",
       "0                                       No   \n",
       "1                                       No   \n",
       "2                                       No   \n",
       "3                                       No   \n",
       "4                                       No   \n",
       "\n",
       "  A free copy of Mastering The Interview Last Notable Activity  \n",
       "0                                     No              Modified  \n",
       "1                                     No          Email Opened  \n",
       "2                                    Yes          Email Opened  \n",
       "3                                     No              Modified  \n",
       "4                                     No              Modified  \n",
       "\n",
       "[5 rows x 37 columns]"
      ]
     },
     "execution_count": 6,
     "metadata": {},
     "output_type": "execute_result"
    }
   ],
   "source": [
    "# COnverting all 'Select to Nan'\n",
    "\n",
    "leads.replace('Select', np.nan, inplace=True)\n",
    "leads.head()"
   ]
  },
  {
   "cell_type": "markdown",
   "metadata": {},
   "source": [
    "###  Missing Values Check\n",
    "\n",
    "\n",
    "###### Percentage (%) of missing values in each column"
   ]
  },
  {
   "cell_type": "code",
   "execution_count": 7,
   "metadata": {
    "scrolled": true
   },
   "outputs": [
    {
     "data": {
      "text/plain": [
       "How did you hear about X Education               0.78\n",
       "Lead Profile                                     0.74\n",
       "Lead Quality                                     0.52\n",
       "Asymmetrique Profile Score                       0.46\n",
       "Asymmetrique Activity Score                      0.46\n",
       "Asymmetrique Profile Index                       0.46\n",
       "Asymmetrique Activity Index                      0.46\n",
       "City                                             0.40\n",
       "Specialization                                   0.37\n",
       "Tags                                             0.36\n",
       "What matters most to you in choosing a course    0.29\n",
       "What is your current occupation                  0.29\n",
       "Country                                          0.27\n",
       "TotalVisits                                      0.01\n",
       "Page Views Per Visit                             0.01\n",
       "Last Activity                                    0.01\n",
       "dtype: float64"
      ]
     },
     "execution_count": 7,
     "metadata": {},
     "output_type": "execute_result"
    }
   ],
   "source": [
    "# Missing values % check, Only columns with missing values\n",
    "\n",
    "missingPercent = leads.isnull().mean().round(2).sort_values(ascending = False)\n",
    "missingPercent[missingPercent > 0]"
   ]
  },
  {
   "cell_type": "markdown",
   "metadata": {},
   "source": [
    "### Drop  columns with high missing percentage above 40%\n",
    "\n",
    "[How did you hear about X Education, Lead Profile, Lead Quality, Asymmetrique Profile Score, Asymmetrique Activity Score, Asymmetrique Profile Index, Asymmetrique Activity Index\n",
    "\n",
    "Though they may be useful, we will exclude them from the analysis\n",
    "    1. Imputing them will be impossible, as all of them cannot  be reliably calculated or assumed\n",
    "    2. Removing row will mean high data loss\n",
    "    3. Also these are qualitative estimation, which can be subjective to be used in statistical analysis.\n",
    "    So given last priority"
   ]
  },
  {
   "cell_type": "code",
   "execution_count": 8,
   "metadata": {
    "scrolled": true
   },
   "outputs": [],
   "source": [
    "cols = list(missingPercent[missingPercent > 0.40].index)\n",
    "leads.drop(columns = cols, inplace =True)"
   ]
  },
  {
   "cell_type": "markdown",
   "metadata": {},
   "source": [
    "###### City & Specialisation, by business understanding can be major predictors:  So special cosideration\n",
    "1. Online education demand is based on infrastructure and faculty availiability which vary across regions\n",
    "2. Highly possible that demand is much more for certain types of courses"
   ]
  },
  {
   "cell_type": "code",
   "execution_count": 9,
   "metadata": {
    "scrolled": false
   },
   "outputs": [
    {
     "data": {
      "text/plain": [
       "Mumbai                         0.578352\n",
       "Thane & Outskirts              0.134985\n",
       "Other Cities                   0.123138\n",
       "Other Cities of Maharashtra    0.082032\n",
       "Other Metro Cities             0.068210\n",
       "Tier II Cities                 0.013283\n",
       "Name: City, dtype: float64"
      ]
     },
     "execution_count": 9,
     "metadata": {},
     "output_type": "execute_result"
    }
   ],
   "source": [
    "# Investigating City\n",
    "\n",
    "leads.City.value_counts(normalize =True)"
   ]
  },
  {
   "cell_type": "markdown",
   "metadata": {},
   "source": [
    "#### Impute missing with \"Anywhere\"\n",
    "Cities can be a imortant factors as development and facilities widely vary across the cities and town. Demand and need can be high in areas, Even though we have 40% missing data.\n",
    "We will impute it with \" Anywhere\" for now and retain"
   ]
  },
  {
   "cell_type": "code",
   "execution_count": 10,
   "metadata": {},
   "outputs": [],
   "source": [
    "# Imputing missing City with \"Anywhere\"\n",
    "leads.City.fillna('Anywhere', inplace =True)"
   ]
  },
  {
   "cell_type": "code",
   "execution_count": 11,
   "metadata": {
    "scrolled": false
   },
   "outputs": [
    {
     "data": {
      "text/plain": [
       "Anywhere                       0.397078\n",
       "Mumbai                         0.348701\n",
       "Thane & Outskirts              0.081385\n",
       "Other Cities                   0.074242\n",
       "Other Cities of Maharashtra    0.049459\n",
       "Other Metro Cities             0.041126\n",
       "Tier II Cities                 0.008009\n",
       "Name: City, dtype: float64"
      ]
     },
     "execution_count": 11,
     "metadata": {},
     "output_type": "execute_result"
    }
   ],
   "source": [
    "# Checking the final distribution of City\n",
    "leads.City.value_counts(normalize =True)"
   ]
  },
  {
   "cell_type": "markdown",
   "metadata": {},
   "source": [
    "###### Retain City for now and recheck distribution later\n",
    "WIth very high missing value and thin distribution on the remaing,\n",
    "this column will be biased towards the missing, which is not really useful.\n",
    "But we can evaluate the missing percetange again once we finish removing missing values from other features"
   ]
  },
  {
   "cell_type": "markdown",
   "metadata": {},
   "source": [
    "###### Investigate Specialisation"
   ]
  },
  {
   "cell_type": "code",
   "execution_count": 12,
   "metadata": {
    "scrolled": true
   },
   "outputs": [
    {
     "data": {
      "text/plain": [
       "Finance Management                   0.166553\n",
       "Human Resource Management            0.144710\n",
       "Marketing Management                 0.143003\n",
       "Operations Management                0.085836\n",
       "Business Administration              0.068771\n",
       "IT Projects Management               0.062457\n",
       "Supply Chain Management              0.059556\n",
       "Banking, Investment And Insurance    0.057679\n",
       "Travel and Tourism                   0.034642\n",
       "Media and Advertising                0.034642\n",
       "International Business               0.030375\n",
       "Healthcare Management                0.027133\n",
       "Hospitality Management               0.019454\n",
       "E-COMMERCE                           0.019113\n",
       "Retail Management                    0.017065\n",
       "Rural and Agribusiness               0.012457\n",
       "E-Business                           0.009727\n",
       "Services Excellence                  0.006826\n",
       "Name: Specialization, dtype: float64"
      ]
     },
     "execution_count": 12,
     "metadata": {},
     "output_type": "execute_result"
    }
   ],
   "source": [
    "# Investigating Specialisation\n",
    "leads.Specialization.value_counts(normalize = True)"
   ]
  },
  {
   "cell_type": "markdown",
   "metadata": {},
   "source": [
    "##### Retain Specialisation by removing the missing rows\n",
    "\n",
    "1. Imputing for such a wide range of values is difficult\n",
    "2. Also with much missing percentage as compared to the widely distributed value, the analysis may be biased towards missing value, which as by itself is of no business meaning, as only a definite set of courses are provided\n",
    "\n",
    "So we will remove the whole of missing rows in specialisation.\n",
    "\n",
    "This is a significant chunk of data being excluded but with no option to balance or add weight to the missing data, \n",
    "we will just remove. The remaining number of columns is still not very small and can possibly give us a reasonable model.\n",
    "\n",
    "Specialisation may still not end up as a key predictor but it can still have an effect as it interacts with other features, leading up to the final set of features"
   ]
  },
  {
   "cell_type": "code",
   "execution_count": 13,
   "metadata": {
    "scrolled": false
   },
   "outputs": [],
   "source": [
    "# Removing all missing Specialisation\n",
    "\n",
    "leads.dropna(subset = ['Specialization'], inplace =True)"
   ]
  },
  {
   "cell_type": "markdown",
   "metadata": {},
   "source": [
    "##### Investigating other columns above 10%\n"
   ]
  },
  {
   "cell_type": "code",
   "execution_count": 14,
   "metadata": {},
   "outputs": [
    {
     "data": {
      "text/plain": [
       "Tags                                             0.24\n",
       "What matters most to you in choosing a course    0.21\n",
       "What is your current occupation                  0.21\n",
       "dtype: float64"
      ]
     },
     "execution_count": 14,
     "metadata": {},
     "output_type": "execute_result"
    }
   ],
   "source": [
    "missingPercent = leads.isnull().mean().round(2).sort_values(ascending = False)\n",
    "missingPercent[missingPercent > 0.1]"
   ]
  },
  {
   "cell_type": "code",
   "execution_count": 15,
   "metadata": {
    "scrolled": true
   },
   "outputs": [
    {
     "data": {
      "text/plain": [
       "Will revert after reading the email                  1778\n",
       "Ringing                                               873\n",
       "Already a student                                     284\n",
       "Interested in other courses                           267\n",
       "Closed by Horizzon                                    262\n",
       "switched off                                          180\n",
       "Busy                                                  158\n",
       "Lost to EINS                                          137\n",
       "Not doing further education                           111\n",
       "Interested  in full time MBA                           83\n",
       "Graduation in progress                                 73\n",
       "invalid number                                         67\n",
       "Diploma holder (Not Eligible)                          43\n",
       "wrong number given                                     37\n",
       "opp hangup                                             27\n",
       "number not provided                                    21\n",
       "in touch with EINS                                      7\n",
       "Lost to Others                                          7\n",
       "Want to take admission but has financial problems       5\n",
       "Interested in Next batch                                4\n",
       "Still Thinking                                          4\n",
       "In confusion whether part time or DLP                   3\n",
       "Shall take in the next coming month                     2\n",
       "University not recognized                               1\n",
       "Recognition issue (DEC approval)                        1\n",
       "Name: Tags, dtype: int64"
      ]
     },
     "execution_count": 15,
     "metadata": {},
     "output_type": "execute_result"
    }
   ],
   "source": [
    "# Investigating Tags\n",
    "leads.Tags.value_counts()"
   ]
  },
  {
   "cell_type": "markdown",
   "metadata": {},
   "source": [
    "#### Drop Tags\n",
    "Tags dont seem to be standard responses, but more like quick subjective notes.\n",
    "And with high missing values of 36%. We can exclude it for now"
   ]
  },
  {
   "cell_type": "code",
   "execution_count": 16,
   "metadata": {
    "scrolled": true
   },
   "outputs": [
    {
     "data": {
      "text/plain": [
       "Better Career Prospects      4599\n",
       "Flexibility & Convenience       2\n",
       "Other                           1\n",
       "Name: What matters most to you in choosing a course, dtype: int64"
      ]
     },
     "execution_count": 16,
     "metadata": {},
     "output_type": "execute_result"
    }
   ],
   "source": [
    "leads['What matters most to you in choosing a course'].value_counts()"
   ]
  },
  {
   "cell_type": "markdown",
   "metadata": {},
   "source": [
    "#### Drop 'What matters most to you in choosing a course'\n",
    "\n",
    "Highly imbalance and neglible variance. Cannot probably of effective use"
   ]
  },
  {
   "cell_type": "code",
   "execution_count": 17,
   "metadata": {
    "scrolled": true
   },
   "outputs": [
    {
     "data": {
      "text/plain": [
       "Unemployed              0.819466\n",
       "Working Professional    0.146643\n",
       "Student                 0.027156\n",
       "Other                   0.003259\n",
       "Housewife               0.002172\n",
       "Businessman             0.001303\n",
       "Name: What is your current occupation, dtype: float64"
      ]
     },
     "execution_count": 17,
     "metadata": {},
     "output_type": "execute_result"
    }
   ],
   "source": [
    "# checking distribution of Occupation\n",
    "leads['What is your current occupation'].value_counts(normalize =True)"
   ]
  },
  {
   "cell_type": "markdown",
   "metadata": {},
   "source": [
    "######   Drop 'What is your current occupation',   : Highly Imbalance\n",
    "\n",
    "towards 'Unemployed' and not much variablity. "
   ]
  },
  {
   "cell_type": "code",
   "execution_count": 18,
   "metadata": {
    "scrolled": false
   },
   "outputs": [
    {
     "data": {
      "text/plain": [
       "India                   0.955961\n",
       "United States           0.009491\n",
       "United Arab Emirates    0.008542\n",
       "Saudi Arabia            0.003797\n",
       "Singapore               0.003417\n",
       "United Kingdom          0.002468\n",
       "Australia               0.002088\n",
       "Qatar                   0.001519\n",
       "Hong Kong               0.001329\n",
       "Bahrain                 0.001329\n",
       "France                  0.001139\n",
       "Oman                    0.000949\n",
       "Germany                 0.000759\n",
       "Canada                  0.000759\n",
       "Kuwait                  0.000759\n",
       "Nigeria                 0.000759\n",
       "South Africa            0.000569\n",
       "Netherlands             0.000380\n",
       "Philippines             0.000380\n",
       "Sweden                  0.000380\n",
       "Bangladesh              0.000380\n",
       "Belgium                 0.000380\n",
       "China                   0.000190\n",
       "Uganda                  0.000190\n",
       "Kenya                   0.000190\n",
       "Vietnam                 0.000190\n",
       "Malaysia                0.000190\n",
       "Liberia                 0.000190\n",
       "Ghana                   0.000190\n",
       "Russia                  0.000190\n",
       "Italy                   0.000190\n",
       "Tanzania                0.000190\n",
       "Denmark                 0.000190\n",
       "Switzerland             0.000190\n",
       "Indonesia               0.000190\n",
       "Name: Country, dtype: float64"
      ]
     },
     "execution_count": 18,
     "metadata": {},
     "output_type": "execute_result"
    }
   ],
   "source": [
    "leads['Country'].value_counts(normalize = True)"
   ]
  },
  {
   "cell_type": "markdown",
   "metadata": {},
   "source": [
    "#### Drop 'Country\" : High Imbalance\n",
    "\n",
    "Almost all in India"
   ]
  },
  {
   "cell_type": "code",
   "execution_count": 19,
   "metadata": {},
   "outputs": [],
   "source": [
    "# Dropping the above columns\n",
    "\n",
    "leads.drop(columns =['Tags','What is your current occupation', 'What matters most to you in choosing a course','Country'], inplace=True)"
   ]
  },
  {
   "cell_type": "markdown",
   "metadata": {},
   "source": [
    "###### Checking the remaining missing values\n"
   ]
  },
  {
   "cell_type": "code",
   "execution_count": 20,
   "metadata": {},
   "outputs": [
    {
     "data": {
      "text/plain": [
       "TotalVisits             0.01\n",
       "Page Views Per Visit    0.01\n",
       "Last Activity           0.01\n",
       "dtype: float64"
      ]
     },
     "execution_count": 20,
     "metadata": {},
     "output_type": "execute_result"
    }
   ],
   "source": [
    "missingPercent = leads.isnull().mean().round(2).sort_values(ascending = False)\n",
    "missingPercent[missingPercent > 0]"
   ]
  },
  {
   "cell_type": "markdown",
   "metadata": {},
   "source": [
    "###### Dropping row them the few missing values"
   ]
  },
  {
   "cell_type": "code",
   "execution_count": 21,
   "metadata": {},
   "outputs": [],
   "source": [
    "leads.dropna( inplace =True)"
   ]
  },
  {
   "cell_type": "code",
   "execution_count": 22,
   "metadata": {
    "scrolled": false
   },
   "outputs": [
    {
     "name": "stdout",
     "output_type": "stream",
     "text": [
      "<class 'pandas.core.frame.DataFrame'>\n",
      "Int64Index: 5792 entries, 2 to 9239\n",
      "Data columns (total 26 columns):\n",
      "Prospect ID                                 5792 non-null object\n",
      "Lead Number                                 5792 non-null int64\n",
      "Lead Origin                                 5792 non-null object\n",
      "Lead Source                                 5792 non-null object\n",
      "Do Not Email                                5792 non-null object\n",
      "Do Not Call                                 5792 non-null object\n",
      "Converted                                   5792 non-null int64\n",
      "TotalVisits                                 5792 non-null float64\n",
      "Total Time Spent on Website                 5792 non-null int64\n",
      "Page Views Per Visit                        5792 non-null float64\n",
      "Last Activity                               5792 non-null object\n",
      "Specialization                              5792 non-null object\n",
      "Search                                      5792 non-null object\n",
      "Magazine                                    5792 non-null object\n",
      "Newspaper Article                           5792 non-null object\n",
      "X Education Forums                          5792 non-null object\n",
      "Newspaper                                   5792 non-null object\n",
      "Digital Advertisement                       5792 non-null object\n",
      "Through Recommendations                     5792 non-null object\n",
      "Receive More Updates About Our Courses      5792 non-null object\n",
      "Update me on Supply Chain Content           5792 non-null object\n",
      "Get updates on DM Content                   5792 non-null object\n",
      "City                                        5792 non-null object\n",
      "I agree to pay the amount through cheque    5792 non-null object\n",
      "A free copy of Mastering The Interview      5792 non-null object\n",
      "Last Notable Activity                       5792 non-null object\n",
      "dtypes: float64(2), int64(3), object(21)\n",
      "memory usage: 1.2+ MB\n"
     ]
    }
   ],
   "source": [
    "leads.info()"
   ]
  },
  {
   "cell_type": "markdown",
   "metadata": {},
   "source": [
    "###### Final check of missing vaues"
   ]
  },
  {
   "cell_type": "code",
   "execution_count": 23,
   "metadata": {},
   "outputs": [
    {
     "data": {
      "text/plain": [
       "Last Notable Activity                       0.0\n",
       "A free copy of Mastering The Interview      0.0\n",
       "Lead Number                                 0.0\n",
       "Lead Origin                                 0.0\n",
       "Lead Source                                 0.0\n",
       "Do Not Email                                0.0\n",
       "Do Not Call                                 0.0\n",
       "Converted                                   0.0\n",
       "TotalVisits                                 0.0\n",
       "Total Time Spent on Website                 0.0\n",
       "Page Views Per Visit                        0.0\n",
       "Last Activity                               0.0\n",
       "Specialization                              0.0\n",
       "Search                                      0.0\n",
       "Magazine                                    0.0\n",
       "Newspaper Article                           0.0\n",
       "X Education Forums                          0.0\n",
       "Newspaper                                   0.0\n",
       "Digital Advertisement                       0.0\n",
       "Through Recommendations                     0.0\n",
       "Receive More Updates About Our Courses      0.0\n",
       "Update me on Supply Chain Content           0.0\n",
       "Get updates on DM Content                   0.0\n",
       "City                                        0.0\n",
       "I agree to pay the amount through cheque    0.0\n",
       "Prospect ID                                 0.0\n",
       "dtype: float64"
      ]
     },
     "execution_count": 23,
     "metadata": {},
     "output_type": "execute_result"
    }
   ],
   "source": [
    "# Checking the missing value percentage again\n",
    "leads.isnull().mean().round(2).sort_values(ascending = False)\n"
   ]
  },
  {
   "cell_type": "markdown",
   "metadata": {},
   "source": [
    "#### No Missing values"
   ]
  },
  {
   "cell_type": "code",
   "execution_count": 24,
   "metadata": {
    "scrolled": true
   },
   "outputs": [
    {
     "data": {
      "text/plain": [
       "Mumbai                         0.533322\n",
       "Thane & Outskirts              0.123273\n",
       "Other Cities                   0.112742\n",
       "Anywhere                       0.080283\n",
       "Other Cities of Maharashtra    0.073377\n",
       "Other Metro Cities             0.064227\n",
       "Tier II Cities                 0.012776\n",
       "Name: City, dtype: float64"
      ]
     },
     "execution_count": 24,
     "metadata": {},
     "output_type": "execute_result"
    }
   ],
   "source": [
    "# ReChecking the final distribution of City\n",
    "leads.City.value_counts(normalize =True)"
   ]
  },
  {
   "cell_type": "markdown",
   "metadata": {},
   "source": [
    "##### City is acceptable now\n",
    "\n",
    "Anywhere is now limited to 8%"
   ]
  },
  {
   "cell_type": "markdown",
   "metadata": {},
   "source": [
    "### Imbalance Check for the remaining categorical \n",
    "\n",
    "\n"
   ]
  },
  {
   "cell_type": "code",
   "execution_count": 25,
   "metadata": {
    "scrolled": true
   },
   "outputs": [],
   "source": [
    "# The remaining categorical columns\n",
    "\n",
    "catCols = ['Lead Origin', 'Lead Source',\n",
    "       'Do Not Email', 'Do Not Call', 'Converted', 'Last Activity',\n",
    "       'Specialization', 'Search', 'Magazine', 'Newspaper Article',\n",
    "       'X Education Forums', 'Newspaper', 'Digital Advertisement',\n",
    "       'Through Recommendations', 'Receive More Updates About Our Courses',\n",
    "       'Update me on Supply Chain Content', 'Get updates on DM Content',\n",
    "       'City', 'I agree to pay the amount through cheque',\n",
    "       'A free copy of Mastering The Interview', 'Last Notable Activity']"
   ]
  },
  {
   "cell_type": "code",
   "execution_count": 26,
   "metadata": {
    "scrolled": false
   },
   "outputs": [
    {
     "name": "stdout",
     "output_type": "stream",
     "text": [
      "Landing Page Submission    0.8218\n",
      "API                        0.1148\n",
      "Lead Add Form              0.0609\n",
      "Lead Import                0.0024\n",
      "Name: Lead Origin, dtype: float64\n",
      "\n",
      "Direct Traffic       0.4111\n",
      "Google               0.3400\n",
      "Organic Search       0.1359\n",
      "Reference            0.0573\n",
      "Olark Chat           0.0418\n",
      "Referral Sites       0.0060\n",
      "Welingak Website     0.0026\n",
      "Facebook             0.0024\n",
      "Click2call           0.0007\n",
      "bing                 0.0003\n",
      "Social Media         0.0003\n",
      "Press_Release        0.0003\n",
      "blog                 0.0002\n",
      "youtubechannel       0.0002\n",
      "Pay per Click Ads    0.0002\n",
      "NC_EDM               0.0002\n",
      "testone              0.0002\n",
      "welearnblog_Home     0.0002\n",
      "WeLearn              0.0002\n",
      "Name: Lead Source, dtype: float64\n",
      "\n",
      "No     0.9126\n",
      "Yes    0.0874\n",
      "Name: Do Not Email, dtype: float64\n",
      "\n",
      "No     0.9997\n",
      "Yes    0.0003\n",
      "Name: Do Not Call, dtype: float64\n",
      "\n",
      "0    0.5625\n",
      "1    0.4375\n",
      "Name: Converted, dtype: float64\n",
      "\n",
      "Email Opened                    0.4047\n",
      "SMS Sent                        0.3336\n",
      "Page Visited on Website         0.0843\n",
      "Converted to Lead               0.0461\n",
      "Email Bounced                   0.0354\n",
      "Email Link Clicked              0.0259\n",
      "Olark Chat Conversation         0.0252\n",
      "Form Submitted on Website       0.0197\n",
      "Unreachable                     0.0123\n",
      "Unsubscribed                    0.0076\n",
      "Had a Phone Conversation        0.0035\n",
      "View in browser link Clicked    0.0005\n",
      "Approached upfront              0.0005\n",
      "Email Marked Spam               0.0003\n",
      "Email Received                  0.0003\n",
      "Visited Booth in Tradeshow      0.0002\n",
      "Name: Last Activity, dtype: float64\n",
      "\n",
      "Finance Management                   0.1656\n",
      "Human Resource Management            0.1445\n",
      "Marketing Management                 0.1421\n",
      "Operations Management                0.0862\n",
      "Business Administration              0.0689\n",
      "IT Projects Management               0.0632\n",
      "Supply Chain Management              0.0597\n",
      "Banking, Investment And Insurance    0.0578\n",
      "Travel and Tourism                   0.0349\n",
      "Media and Advertising                0.0349\n",
      "International Business               0.0304\n",
      "Healthcare Management                0.0269\n",
      "E-COMMERCE                           0.0192\n",
      "Hospitality Management               0.0192\n",
      "Retail Management                    0.0173\n",
      "Rural and Agribusiness               0.0126\n",
      "E-Business                           0.0098\n",
      "Services Excellence                  0.0069\n",
      "Name: Specialization, dtype: float64\n",
      "\n",
      "No     0.9983\n",
      "Yes    0.0017\n",
      "Name: Search, dtype: float64\n",
      "\n",
      "No    1.0\n",
      "Name: Magazine, dtype: float64\n",
      "\n",
      "No     0.9998\n",
      "Yes    0.0002\n",
      "Name: Newspaper Article, dtype: float64\n",
      "\n",
      "No     0.9998\n",
      "Yes    0.0002\n",
      "Name: X Education Forums, dtype: float64\n",
      "\n",
      "No     0.9998\n",
      "Yes    0.0002\n",
      "Name: Newspaper, dtype: float64\n",
      "\n",
      "No     0.9995\n",
      "Yes    0.0005\n",
      "Name: Digital Advertisement, dtype: float64\n",
      "\n",
      "No     0.999\n",
      "Yes    0.001\n",
      "Name: Through Recommendations, dtype: float64\n",
      "\n",
      "No    1.0\n",
      "Name: Receive More Updates About Our Courses, dtype: float64\n",
      "\n",
      "No    1.0\n",
      "Name: Update me on Supply Chain Content, dtype: float64\n",
      "\n",
      "No    1.0\n",
      "Name: Get updates on DM Content, dtype: float64\n",
      "\n",
      "Mumbai                         0.5333\n",
      "Thane & Outskirts              0.1233\n",
      "Other Cities                   0.1127\n",
      "Anywhere                       0.0803\n",
      "Other Cities of Maharashtra    0.0734\n",
      "Other Metro Cities             0.0642\n",
      "Tier II Cities                 0.0128\n",
      "Name: City, dtype: float64\n",
      "\n",
      "No    1.0\n",
      "Name: I agree to pay the amount through cheque, dtype: float64\n",
      "\n",
      "No     0.5024\n",
      "Yes    0.4976\n",
      "Name: A free copy of Mastering The Interview, dtype: float64\n",
      "\n",
      "Email Opened                    0.3408\n",
      "Modified                        0.3101\n",
      "SMS Sent                        0.2661\n",
      "Page Visited on Website         0.0406\n",
      "Email Link Clicked              0.0173\n",
      "Olark Chat Conversation         0.0060\n",
      "Unsubscribed                    0.0057\n",
      "Email Bounced                   0.0057\n",
      "Unreachable                     0.0045\n",
      "Had a Phone Conversation        0.0022\n",
      "Email Marked Spam               0.0003\n",
      "Form Submitted on Website       0.0002\n",
      "View in browser link Clicked    0.0002\n",
      "Approached upfront              0.0002\n",
      "Email Received                  0.0002\n",
      "Name: Last Notable Activity, dtype: float64\n",
      "\n"
     ]
    }
   ],
   "source": [
    "# Imbalance check for the remaining categorical variables\n",
    "for catCol in catCols:\n",
    "    print(leads[catCol].value_counts( normalize=True).round(4))\n",
    "    print()\n",
    "\n",
    "\n",
    "\n"
   ]
  },
  {
   "cell_type": "code",
   "execution_count": 27,
   "metadata": {},
   "outputs": [],
   "source": [
    "# Columns with high imbalance\n",
    "highImbalance = ['Do Not Email','Do Not Call','Search','Magazine','Newspaper Article','X Education Forums','Newspaper',\n",
    "'Digital Advertisement', 'Through Recommendations', 'Receive More Updates About Our Courses','Update me on Supply Chain Content',\n",
    "'Get updates on DM Content','I agree to pay the amount through cheque'\n",
    "]"
   ]
  },
  {
   "cell_type": "code",
   "execution_count": 28,
   "metadata": {},
   "outputs": [
    {
     "data": {
      "text/plain": [
       "Index(['Prospect ID', 'Lead Number', 'Lead Origin', 'Lead Source', 'Converted',\n",
       "       'TotalVisits', 'Total Time Spent on Website', 'Page Views Per Visit',\n",
       "       'Last Activity', 'Specialization', 'City',\n",
       "       'A free copy of Mastering The Interview', 'Last Notable Activity'],\n",
       "      dtype='object')"
      ]
     },
     "execution_count": 28,
     "metadata": {},
     "output_type": "execute_result"
    }
   ],
   "source": [
    "# Removing the high imbalance\n",
    "leads.drop(columns =highImbalance, inplace=True)\n",
    "leads.columns"
   ]
  },
  {
   "cell_type": "markdown",
   "metadata": {},
   "source": [
    "### Categorical value reduction : High categorical value columns \n",
    "\n",
    "We will optimise the values in the following columns\n",
    "\n",
    "###### 'Lead Source', 'Last Activity' , 'Specialization', 'Last Notable Activity'\n",
    "\n",
    "We can club all the values less than 1 % as 'Others'"
   ]
  },
  {
   "cell_type": "code",
   "execution_count": 29,
   "metadata": {
    "scrolled": false
   },
   "outputs": [],
   "source": [
    "# clubbing categorical values of less than 1% to group \n",
    "\n",
    "highCatCols = [ 'Lead Source', 'Last Activity' , 'Specialization', 'Last Notable Activity']\n",
    "\n",
    "for highCatCol in highCatCols:\n",
    "    catCount = leads[highCatCol].value_counts(normalize =True)\n",
    "    clubCols = list(catCount[catCount <0.01].index)\n",
    "    leads[highCatCol].replace(clubCols,'Others', inplace =True)\n",
    "\n"
   ]
  },
  {
   "cell_type": "code",
   "execution_count": 30,
   "metadata": {
    "scrolled": false
   },
   "outputs": [
    {
     "name": "stdout",
     "output_type": "stream",
     "text": [
      "Direct Traffic    0.411084\n",
      "Google            0.339952\n",
      "Organic Search    0.135877\n",
      "Reference         0.057320\n",
      "Olark Chat        0.041782\n",
      "Others            0.013985\n",
      "Name: Lead Source, dtype: float64\n",
      "\n",
      "Email Opened                 0.404696\n",
      "SMS Sent                     0.333564\n",
      "Page Visited on Website      0.084254\n",
      "Converted to Lead            0.046098\n",
      "Email Bounced                0.035394\n",
      "Email Link Clicked           0.025898\n",
      "Olark Chat Conversation      0.025207\n",
      "Form Submitted on Website    0.019682\n",
      "Others                       0.012949\n",
      "Unreachable                  0.012258\n",
      "Name: Last Activity, dtype: float64\n",
      "\n",
      "Finance Management                   0.165573\n",
      "Human Resource Management            0.144510\n",
      "Marketing Management                 0.142093\n",
      "Operations Management                0.086153\n",
      "Business Administration              0.068888\n",
      "IT Projects Management               0.063191\n",
      "Supply Chain Management              0.059738\n",
      "Banking, Investment And Insurance    0.057838\n",
      "Travel and Tourism                   0.034876\n",
      "Media and Advertising                0.034876\n",
      "International Business               0.030387\n",
      "Healthcare Management                0.026934\n",
      "Hospitality Management               0.019164\n",
      "E-COMMERCE                           0.019164\n",
      "Retail Management                    0.017265\n",
      "Others                               0.016747\n",
      "Rural and Agribusiness               0.012604\n",
      "Name: Specialization, dtype: float64\n",
      "\n",
      "Email Opened               0.340815\n",
      "Modified                   0.310083\n",
      "SMS Sent                   0.266057\n",
      "Page Visited on Website    0.040573\n",
      "Others                     0.025207\n",
      "Email Link Clicked         0.017265\n",
      "Name: Last Notable Activity, dtype: float64\n",
      "\n"
     ]
    }
   ],
   "source": [
    "for highCatCol in highCatCols:\n",
    "    print(leads[highCatCol].value_counts(normalize =True))\n",
    "    print()"
   ]
  },
  {
   "cell_type": "code",
   "execution_count": 31,
   "metadata": {
    "scrolled": false
   },
   "outputs": [
    {
     "data": {
      "text/plain": [
       "Index(['Prospect ID', 'Lead Number', 'Lead Origin', 'Lead Source', 'Converted',\n",
       "       'TotalVisits', 'Total Time Spent on Website', 'Page Views Per Visit',\n",
       "       'Last Activity', 'Specialization', 'City',\n",
       "       'A free copy of Mastering The Interview', 'Last Notable Activity'],\n",
       "      dtype='object')"
      ]
     },
     "execution_count": 31,
     "metadata": {},
     "output_type": "execute_result"
    }
   ],
   "source": [
    "leads.columns"
   ]
  },
  {
   "cell_type": "markdown",
   "metadata": {},
   "source": [
    "##### EDA: Duplication Check\n",
    "\n",
    "Checking duplication in Id columns, so that we dont have any duplication of row"
   ]
  },
  {
   "cell_type": "code",
   "execution_count": 32,
   "metadata": {},
   "outputs": [
    {
     "data": {
      "text/plain": [
       "0.0"
      ]
     },
     "execution_count": 32,
     "metadata": {},
     "output_type": "execute_result"
    }
   ],
   "source": [
    "# Duplication check in Prospect ID and Lead Number\n",
    "leads.duplicated( ['Prospect ID', 'Lead Number']).mean()"
   ]
  },
  {
   "cell_type": "markdown",
   "metadata": {},
   "source": [
    "###### EDA : Removing irrelevant columns\n",
    "\n",
    "We dont need ['Prospect ID', 'Lead Number'] as they are just marker and not a factor"
   ]
  },
  {
   "cell_type": "code",
   "execution_count": 33,
   "metadata": {},
   "outputs": [
    {
     "data": {
      "text/plain": [
       "Index(['Lead Origin', 'Lead Source', 'Converted', 'TotalVisits',\n",
       "       'Total Time Spent on Website', 'Page Views Per Visit', 'Last Activity',\n",
       "       'Specialization', 'City', 'A free copy of Mastering The Interview',\n",
       "       'Last Notable Activity'],\n",
       "      dtype='object')"
      ]
     },
     "execution_count": 33,
     "metadata": {},
     "output_type": "execute_result"
    }
   ],
   "source": [
    "# Dropping ['Prospect ID', 'Lead Number']\n",
    "\n",
    "leads.drop(columns =['Prospect ID', 'Lead Number'] , inplace =True)\n",
    "leads.columns"
   ]
  },
  {
   "cell_type": "markdown",
   "metadata": {},
   "source": [
    "### Outliers Check"
   ]
  },
  {
   "cell_type": "code",
   "execution_count": 34,
   "metadata": {
    "scrolled": true
   },
   "outputs": [
    {
     "data": {
      "text/html": [
       "<div>\n",
       "<style scoped>\n",
       "    .dataframe tbody tr th:only-of-type {\n",
       "        vertical-align: middle;\n",
       "    }\n",
       "\n",
       "    .dataframe tbody tr th {\n",
       "        vertical-align: top;\n",
       "    }\n",
       "\n",
       "    .dataframe thead th {\n",
       "        text-align: right;\n",
       "    }\n",
       "</style>\n",
       "<table border=\"1\" class=\"dataframe\">\n",
       "  <thead>\n",
       "    <tr style=\"text-align: right;\">\n",
       "      <th></th>\n",
       "      <th>Converted</th>\n",
       "      <th>TotalVisits</th>\n",
       "      <th>Total Time Spent on Website</th>\n",
       "      <th>Page Views Per Visit</th>\n",
       "    </tr>\n",
       "  </thead>\n",
       "  <tbody>\n",
       "    <tr>\n",
       "      <td>count</td>\n",
       "      <td>5792.000000</td>\n",
       "      <td>5792.000000</td>\n",
       "      <td>5792.000000</td>\n",
       "      <td>5792.000000</td>\n",
       "    </tr>\n",
       "    <tr>\n",
       "      <td>mean</td>\n",
       "      <td>0.437500</td>\n",
       "      <td>4.383115</td>\n",
       "      <td>604.620684</td>\n",
       "      <td>3.027082</td>\n",
       "    </tr>\n",
       "    <tr>\n",
       "      <td>std</td>\n",
       "      <td>0.496121</td>\n",
       "      <td>5.362541</td>\n",
       "      <td>555.058578</td>\n",
       "      <td>2.104183</td>\n",
       "    </tr>\n",
       "    <tr>\n",
       "      <td>min</td>\n",
       "      <td>0.000000</td>\n",
       "      <td>0.000000</td>\n",
       "      <td>0.000000</td>\n",
       "      <td>0.000000</td>\n",
       "    </tr>\n",
       "    <tr>\n",
       "      <td>25%</td>\n",
       "      <td>0.000000</td>\n",
       "      <td>2.000000</td>\n",
       "      <td>131.750000</td>\n",
       "      <td>2.000000</td>\n",
       "    </tr>\n",
       "    <tr>\n",
       "      <td>50%</td>\n",
       "      <td>0.000000</td>\n",
       "      <td>4.000000</td>\n",
       "      <td>367.000000</td>\n",
       "      <td>3.000000</td>\n",
       "    </tr>\n",
       "    <tr>\n",
       "      <td>75%</td>\n",
       "      <td>1.000000</td>\n",
       "      <td>5.000000</td>\n",
       "      <td>1086.250000</td>\n",
       "      <td>4.000000</td>\n",
       "    </tr>\n",
       "    <tr>\n",
       "      <td>max</td>\n",
       "      <td>1.000000</td>\n",
       "      <td>251.000000</td>\n",
       "      <td>2272.000000</td>\n",
       "      <td>55.000000</td>\n",
       "    </tr>\n",
       "  </tbody>\n",
       "</table>\n",
       "</div>"
      ],
      "text/plain": [
       "         Converted  TotalVisits  Total Time Spent on Website  \\\n",
       "count  5792.000000  5792.000000                  5792.000000   \n",
       "mean      0.437500     4.383115                   604.620684   \n",
       "std       0.496121     5.362541                   555.058578   \n",
       "min       0.000000     0.000000                     0.000000   \n",
       "25%       0.000000     2.000000                   131.750000   \n",
       "50%       0.000000     4.000000                   367.000000   \n",
       "75%       1.000000     5.000000                  1086.250000   \n",
       "max       1.000000   251.000000                  2272.000000   \n",
       "\n",
       "       Page Views Per Visit  \n",
       "count           5792.000000  \n",
       "mean               3.027082  \n",
       "std                2.104183  \n",
       "min                0.000000  \n",
       "25%                2.000000  \n",
       "50%                3.000000  \n",
       "75%                4.000000  \n",
       "max               55.000000  "
      ]
     },
     "execution_count": 34,
     "metadata": {},
     "output_type": "execute_result"
    }
   ],
   "source": [
    "# Quick Scan on distribution of numerical columns \n",
    "\n",
    "leads.describe()"
   ]
  },
  {
   "cell_type": "markdown",
   "metadata": {},
   "source": [
    "Suspected Outliers in Total Visits, Time spent and Page Views as well"
   ]
  },
  {
   "cell_type": "code",
   "execution_count": 35,
   "metadata": {
    "scrolled": false
   },
   "outputs": [
    {
     "data": {
      "image/png": "[encoded data removed]",
      "text/plain": [
       "<Figure size 864x504 with 3 Axes>"
      ]
     },
     "metadata": {
      "needs_background": "light"
     },
     "output_type": "display_data"
    }
   ],
   "source": [
    "plt.figure( figsize=(12,7))\n",
    "\n",
    "plt.subplot(2,2,1)\n",
    "sns.boxplot(x='TotalVisits', data=leads)\n",
    "\n",
    "\n",
    "plt.subplot(2,2,2)\n",
    "sns.boxplot(x='Total Time Spent on Website', data=leads)\n",
    "\n",
    "\n",
    "plt.subplot(2,2,3)\n",
    "sns.boxplot(x='Page Views Per Visit', data=leads)\n",
    "\n",
    "\n",
    "plt.show()"
   ]
  },
  {
   "cell_type": "markdown",
   "metadata": {},
   "source": [
    "### Cap higher side outliers at 99%"
   ]
  },
  {
   "cell_type": "code",
   "execution_count": 36,
   "metadata": {},
   "outputs": [
    {
     "name": "stdout",
     "output_type": "stream",
     "text": [
      "58 TotalVists Outliers\n",
      "42  Pgae Views/Visit outlier\n"
     ]
    }
   ],
   "source": [
    "# Capping higher end outliers values @ 99% in total visits and Page Views/visit\n",
    "visitCap = leads.TotalVisits.quantile(.99)\n",
    "pageViewCap = leads['Page Views Per Visit'].quantile(.99)\n",
    "print (leads.TotalVisits[leads.TotalVisits > visitCap].count() , 'TotalVists Outliers')\n",
    "print(leads['Page Views Per Visit'][leads['Page Views Per Visit'] >pageViewCap].count() ,  ' Pgae Views/Visit outlier')"
   ]
  },
  {
   "cell_type": "code",
   "execution_count": 37,
   "metadata": {},
   "outputs": [],
   "source": [
    "# Capping outliers  at 99%\n",
    "leads.TotalVisits[leads.TotalVisits > visitCap] = visitCap\n",
    "leads['Page Views Per Visit'][leads['Page Views Per Visit'] >pageViewCap] = pageViewCap"
   ]
  },
  {
   "cell_type": "code",
   "execution_count": 38,
   "metadata": {},
   "outputs": [
    {
     "data": {
      "text/html": [
       "<div>\n",
       "<style scoped>\n",
       "    .dataframe tbody tr th:only-of-type {\n",
       "        vertical-align: middle;\n",
       "    }\n",
       "\n",
       "    .dataframe tbody tr th {\n",
       "        vertical-align: top;\n",
       "    }\n",
       "\n",
       "    .dataframe thead th {\n",
       "        text-align: right;\n",
       "    }\n",
       "</style>\n",
       "<table border=\"1\" class=\"dataframe\">\n",
       "  <thead>\n",
       "    <tr style=\"text-align: right;\">\n",
       "      <th></th>\n",
       "      <th>Converted</th>\n",
       "      <th>TotalVisits</th>\n",
       "      <th>Total Time Spent on Website</th>\n",
       "      <th>Page Views Per Visit</th>\n",
       "    </tr>\n",
       "  </thead>\n",
       "  <tbody>\n",
       "    <tr>\n",
       "      <td>count</td>\n",
       "      <td>5792.000000</td>\n",
       "      <td>5792.000000</td>\n",
       "      <td>5792.000000</td>\n",
       "      <td>5792.000000</td>\n",
       "    </tr>\n",
       "    <tr>\n",
       "      <td>mean</td>\n",
       "      <td>0.437500</td>\n",
       "      <td>4.248829</td>\n",
       "      <td>604.620684</td>\n",
       "      <td>3.000839</td>\n",
       "    </tr>\n",
       "    <tr>\n",
       "      <td>std</td>\n",
       "      <td>0.496121</td>\n",
       "      <td>3.277475</td>\n",
       "      <td>555.058578</td>\n",
       "      <td>1.908994</td>\n",
       "    </tr>\n",
       "    <tr>\n",
       "      <td>min</td>\n",
       "      <td>0.000000</td>\n",
       "      <td>0.000000</td>\n",
       "      <td>0.000000</td>\n",
       "      <td>0.000000</td>\n",
       "    </tr>\n",
       "    <tr>\n",
       "      <td>25%</td>\n",
       "      <td>0.000000</td>\n",
       "      <td>2.000000</td>\n",
       "      <td>131.750000</td>\n",
       "      <td>2.000000</td>\n",
       "    </tr>\n",
       "    <tr>\n",
       "      <td>50%</td>\n",
       "      <td>0.000000</td>\n",
       "      <td>4.000000</td>\n",
       "      <td>367.000000</td>\n",
       "      <td>3.000000</td>\n",
       "    </tr>\n",
       "    <tr>\n",
       "      <td>75%</td>\n",
       "      <td>1.000000</td>\n",
       "      <td>5.000000</td>\n",
       "      <td>1086.250000</td>\n",
       "      <td>4.000000</td>\n",
       "    </tr>\n",
       "    <tr>\n",
       "      <td>max</td>\n",
       "      <td>1.000000</td>\n",
       "      <td>18.090000</td>\n",
       "      <td>2272.000000</td>\n",
       "      <td>10.000000</td>\n",
       "    </tr>\n",
       "  </tbody>\n",
       "</table>\n",
       "</div>"
      ],
      "text/plain": [
       "         Converted  TotalVisits  Total Time Spent on Website  \\\n",
       "count  5792.000000  5792.000000                  5792.000000   \n",
       "mean      0.437500     4.248829                   604.620684   \n",
       "std       0.496121     3.277475                   555.058578   \n",
       "min       0.000000     0.000000                     0.000000   \n",
       "25%       0.000000     2.000000                   131.750000   \n",
       "50%       0.000000     4.000000                   367.000000   \n",
       "75%       1.000000     5.000000                  1086.250000   \n",
       "max       1.000000    18.090000                  2272.000000   \n",
       "\n",
       "       Page Views Per Visit  \n",
       "count           5792.000000  \n",
       "mean               3.000839  \n",
       "std                1.908994  \n",
       "min                0.000000  \n",
       "25%                2.000000  \n",
       "50%                3.000000  \n",
       "75%                4.000000  \n",
       "max               10.000000  "
      ]
     },
     "execution_count": 38,
     "metadata": {},
     "output_type": "execute_result"
    }
   ],
   "source": [
    "# Outliers Capped Check\n",
    "leads.describe()"
   ]
  },
  {
   "cell_type": "markdown",
   "metadata": {},
   "source": [
    " Outliers have been capped\n",
    " \n",
    " \n",
    " #### Bivariate Analysis"
   ]
  },
  {
   "cell_type": "markdown",
   "metadata": {},
   "source": [
    "### Bivariate Analysis\n",
    "\n",
    "\n"
   ]
  },
  {
   "cell_type": "code",
   "execution_count": 39,
   "metadata": {
    "scrolled": false
   },
   "outputs": [
    {
     "data": {
      "image/png": "[encoded data removed]",
      "text/plain": [
       "<Figure size 864x576 with 3 Axes>"
      ]
     },
     "metadata": {
      "needs_background": "light"
     },
     "output_type": "display_data"
    }
   ],
   "source": [
    "plt.figure(figsize = (12,8))\n",
    "\n",
    "plt.subplot(2,2,1)\n",
    "sns.boxplot(x='Converted', y='TotalVisits', data = leads)\n",
    "\n",
    "plt.subplot(2,2,2)\n",
    "sns.boxplot(x='Converted', y='Total Time Spent on Website', data=leads)\n",
    "\n",
    "\n",
    "plt.subplot(2,2,3)\n",
    "sns.boxplot(x='Converted', y='Page Views Per Visit', data=leads)\n",
    "plt.show()\n",
    "\n",
    "\n"
   ]
  },
  {
   "cell_type": "markdown",
   "metadata": {},
   "source": [
    "* Only Total time spent seem to indicant significant effect on conversion, without other considerations\n",
    "\n",
    "* Features may still influence when other features are taken together"
   ]
  },
  {
   "cell_type": "code",
   "execution_count": 40,
   "metadata": {
    "scrolled": true
   },
   "outputs": [
    {
     "data": {
      "image/png": "[encoded data removed]",
      "text/plain": [
       "<Figure size 432x288 with 2 Axes>"
      ]
     },
     "metadata": {
      "needs_background": "light"
     },
     "output_type": "display_data"
    }
   ],
   "source": [
    "# Checking the correlation of the numeric values of the orginal data set\n",
    "sns.heatmap(leads.corr(), annot =True)\n",
    "plt.show()"
   ]
  },
  {
   "cell_type": "markdown",
   "metadata": {},
   "source": [
    "No very high correlation observed"
   ]
  },
  {
   "cell_type": "code",
   "execution_count": 41,
   "metadata": {
    "scrolled": false
   },
   "outputs": [
    {
     "data": {
      "image/png": "[encoded data removed]",
      "text/plain": [
       "<Figure size 864x288 with 2 Axes>"
      ]
     },
     "metadata": {
      "needs_background": "light"
     },
     "output_type": "display_data"
    }
   ],
   "source": [
    "# Looking for any obvious conversion pattern in \n",
    "# Total Vist Vs Time spent on website\n",
    "# Total Time spent Vs Page Views Per visit\n",
    "\n",
    "\n",
    "plt.figure(figsize = (12,4))\n",
    "\n",
    "\n",
    "plt.subplot(1,2,1)\n",
    "sns.scatterplot(x='TotalVisits', y='Total Time Spent on Website',hue='Converted', data=leads)\n",
    "\n",
    "\n",
    "plt.subplot(1,2,2)\n",
    "sns.scatterplot(x='Page Views Per Visit', y='Total Time Spent on Website', hue='Converted', data=leads)\n",
    "plt.show()\n"
   ]
  },
  {
   "cell_type": "markdown",
   "metadata": {},
   "source": [
    "No apparent trend, except higher incidence of conversion more on higher time spent on website"
   ]
  },
  {
   "cell_type": "code",
   "execution_count": 42,
   "metadata": {
    "scrolled": false
   },
   "outputs": [
    {
     "data": {
      "image/png": "[encoded data removed]",
      "text/plain": [
       "<Figure size 576x1440 with 4 Axes>"
      ]
     },
     "metadata": {
      "needs_background": "light"
     },
     "output_type": "display_data"
    }
   ],
   "source": [
    "# Checking for trend on categorical feature Vs conversion\n",
    "cols = ['Lead Origin', 'Lead Source','Specialization', 'City']\n",
    "\n",
    "plt.figure(figsize = (8,20))\n",
    "\n",
    "for x in enumerate(cols):\n",
    "    plt.subplot(6,1,x[0]+1)\n",
    "    sns.countplot(y=(x[1]),hue='Converted', data=leads)\n",
    "    \n",
    "plt.show()\n"
   ]
  },
  {
   "cell_type": "markdown",
   "metadata": {},
   "source": [
    "* Possible significant variability of conversion in Lead Origin and Lead Source. For actual significance we can check on the model evaluation\n",
    "\n",
    "* Though conversion is concentrated along certain values of the feature, no significant variablity(% conversion) observed  in Specialisation and city"
   ]
  },
  {
   "cell_type": "code",
   "execution_count": 43,
   "metadata": {
    "scrolled": false
   },
   "outputs": [
    {
     "data": {
      "text/plain": [
       "Index(['Lead Origin', 'Lead Source', 'Converted', 'TotalVisits',\n",
       "       'Total Time Spent on Website', 'Page Views Per Visit', 'Last Activity',\n",
       "       'Specialization', 'City', 'A free copy of Mastering The Interview',\n",
       "       'Last Notable Activity'],\n",
       "      dtype='object')"
      ]
     },
     "execution_count": 43,
     "metadata": {},
     "output_type": "execute_result"
    }
   ],
   "source": [
    "leads.columns"
   ]
  },
  {
   "cell_type": "markdown",
   "metadata": {},
   "source": [
    "#### EDA : Data consistency & Data formatting\n",
    "\n",
    "* All categorical values need to be numeric.\n",
    "* All value needs to logically and realistically valid"
   ]
  },
  {
   "cell_type": "code",
   "execution_count": 44,
   "metadata": {
    "scrolled": true
   },
   "outputs": [
    {
     "data": {
      "text/html": [
       "<div>\n",
       "<style scoped>\n",
       "    .dataframe tbody tr th:only-of-type {\n",
       "        vertical-align: middle;\n",
       "    }\n",
       "\n",
       "    .dataframe tbody tr th {\n",
       "        vertical-align: top;\n",
       "    }\n",
       "\n",
       "    .dataframe thead th {\n",
       "        text-align: right;\n",
       "    }\n",
       "</style>\n",
       "<table border=\"1\" class=\"dataframe\">\n",
       "  <thead>\n",
       "    <tr style=\"text-align: right;\">\n",
       "      <th></th>\n",
       "      <th>Lead Origin</th>\n",
       "      <th>Lead Source</th>\n",
       "      <th>Converted</th>\n",
       "      <th>TotalVisits</th>\n",
       "      <th>Total Time Spent on Website</th>\n",
       "      <th>Page Views Per Visit</th>\n",
       "      <th>Last Activity</th>\n",
       "      <th>Specialization</th>\n",
       "      <th>City</th>\n",
       "      <th>A free copy of Mastering The Interview</th>\n",
       "      <th>Last Notable Activity</th>\n",
       "    </tr>\n",
       "  </thead>\n",
       "  <tbody>\n",
       "    <tr>\n",
       "      <td>2</td>\n",
       "      <td>Landing Page Submission</td>\n",
       "      <td>Direct Traffic</td>\n",
       "      <td>1</td>\n",
       "      <td>2.0</td>\n",
       "      <td>1532</td>\n",
       "      <td>2.0</td>\n",
       "      <td>Email Opened</td>\n",
       "      <td>Business Administration</td>\n",
       "      <td>Mumbai</td>\n",
       "      <td>Yes</td>\n",
       "      <td>Email Opened</td>\n",
       "    </tr>\n",
       "    <tr>\n",
       "      <td>3</td>\n",
       "      <td>Landing Page Submission</td>\n",
       "      <td>Direct Traffic</td>\n",
       "      <td>0</td>\n",
       "      <td>1.0</td>\n",
       "      <td>305</td>\n",
       "      <td>1.0</td>\n",
       "      <td>Unreachable</td>\n",
       "      <td>Media and Advertising</td>\n",
       "      <td>Mumbai</td>\n",
       "      <td>No</td>\n",
       "      <td>Modified</td>\n",
       "    </tr>\n",
       "    <tr>\n",
       "      <td>6</td>\n",
       "      <td>Landing Page Submission</td>\n",
       "      <td>Google</td>\n",
       "      <td>1</td>\n",
       "      <td>2.0</td>\n",
       "      <td>1640</td>\n",
       "      <td>2.0</td>\n",
       "      <td>Email Opened</td>\n",
       "      <td>Supply Chain Management</td>\n",
       "      <td>Mumbai</td>\n",
       "      <td>No</td>\n",
       "      <td>Modified</td>\n",
       "    </tr>\n",
       "    <tr>\n",
       "      <td>8</td>\n",
       "      <td>Landing Page Submission</td>\n",
       "      <td>Direct Traffic</td>\n",
       "      <td>0</td>\n",
       "      <td>2.0</td>\n",
       "      <td>71</td>\n",
       "      <td>2.0</td>\n",
       "      <td>Email Opened</td>\n",
       "      <td>IT Projects Management</td>\n",
       "      <td>Thane &amp; Outskirts</td>\n",
       "      <td>Yes</td>\n",
       "      <td>Email Opened</td>\n",
       "    </tr>\n",
       "    <tr>\n",
       "      <td>9</td>\n",
       "      <td>API</td>\n",
       "      <td>Google</td>\n",
       "      <td>0</td>\n",
       "      <td>4.0</td>\n",
       "      <td>58</td>\n",
       "      <td>4.0</td>\n",
       "      <td>Email Opened</td>\n",
       "      <td>Finance Management</td>\n",
       "      <td>Mumbai</td>\n",
       "      <td>No</td>\n",
       "      <td>Email Opened</td>\n",
       "    </tr>\n",
       "  </tbody>\n",
       "</table>\n",
       "</div>"
      ],
      "text/plain": [
       "               Lead Origin     Lead Source  Converted  TotalVisits  \\\n",
       "2  Landing Page Submission  Direct Traffic          1          2.0   \n",
       "3  Landing Page Submission  Direct Traffic          0          1.0   \n",
       "6  Landing Page Submission          Google          1          2.0   \n",
       "8  Landing Page Submission  Direct Traffic          0          2.0   \n",
       "9                      API          Google          0          4.0   \n",
       "\n",
       "   Total Time Spent on Website  Page Views Per Visit Last Activity  \\\n",
       "2                         1532                   2.0  Email Opened   \n",
       "3                          305                   1.0   Unreachable   \n",
       "6                         1640                   2.0  Email Opened   \n",
       "8                           71                   2.0  Email Opened   \n",
       "9                           58                   4.0  Email Opened   \n",
       "\n",
       "            Specialization               City  \\\n",
       "2  Business Administration             Mumbai   \n",
       "3    Media and Advertising             Mumbai   \n",
       "6  Supply Chain Management             Mumbai   \n",
       "8   IT Projects Management  Thane & Outskirts   \n",
       "9       Finance Management             Mumbai   \n",
       "\n",
       "  A free copy of Mastering The Interview Last Notable Activity  \n",
       "2                                    Yes          Email Opened  \n",
       "3                                     No              Modified  \n",
       "6                                     No              Modified  \n",
       "8                                    Yes          Email Opened  \n",
       "9                                     No          Email Opened  "
      ]
     },
     "execution_count": 44,
     "metadata": {},
     "output_type": "execute_result"
    }
   ],
   "source": [
    "# Data Consistency Value consistency\n",
    "\n",
    "leads.head()"
   ]
  },
  {
   "cell_type": "markdown",
   "metadata": {},
   "source": [
    "The following columns need to be one hot encoded or make use of dummies\n",
    "\n",
    "'Lead Origin' , 'Lead Source' , 'Last Activity' , 'Specialization' , 'City', 'Last Notable Activity']m"
   ]
  },
  {
   "cell_type": "code",
   "execution_count": 45,
   "metadata": {},
   "outputs": [
    {
     "data": {
      "text/html": [
       "<div>\n",
       "<style scoped>\n",
       "    .dataframe tbody tr th:only-of-type {\n",
       "        vertical-align: middle;\n",
       "    }\n",
       "\n",
       "    .dataframe tbody tr th {\n",
       "        vertical-align: top;\n",
       "    }\n",
       "\n",
       "    .dataframe thead th {\n",
       "        text-align: right;\n",
       "    }\n",
       "</style>\n",
       "<table border=\"1\" class=\"dataframe\">\n",
       "  <thead>\n",
       "    <tr style=\"text-align: right;\">\n",
       "      <th></th>\n",
       "      <th>Converted</th>\n",
       "      <th>TotalVisits</th>\n",
       "      <th>Total Time Spent on Website</th>\n",
       "      <th>Page Views Per Visit</th>\n",
       "      <th>A free copy of Mastering The Interview</th>\n",
       "      <th>Lead Origin_Landing Page Submission</th>\n",
       "      <th>Lead Origin_Lead Add Form</th>\n",
       "      <th>Lead Origin_Lead Import</th>\n",
       "      <th>Lead Source_Google</th>\n",
       "      <th>Lead Source_Olark Chat</th>\n",
       "      <th>...</th>\n",
       "      <th>City_Other Cities</th>\n",
       "      <th>City_Other Cities of Maharashtra</th>\n",
       "      <th>City_Other Metro Cities</th>\n",
       "      <th>City_Thane &amp; Outskirts</th>\n",
       "      <th>City_Tier II Cities</th>\n",
       "      <th>Last Notable Activity_Email Opened</th>\n",
       "      <th>Last Notable Activity_Modified</th>\n",
       "      <th>Last Notable Activity_Others</th>\n",
       "      <th>Last Notable Activity_Page Visited on Website</th>\n",
       "      <th>Last Notable Activity_SMS Sent</th>\n",
       "    </tr>\n",
       "  </thead>\n",
       "  <tbody>\n",
       "    <tr>\n",
       "      <td>2</td>\n",
       "      <td>1</td>\n",
       "      <td>2.0</td>\n",
       "      <td>1532</td>\n",
       "      <td>2.0</td>\n",
       "      <td>Yes</td>\n",
       "      <td>1</td>\n",
       "      <td>0</td>\n",
       "      <td>0</td>\n",
       "      <td>0</td>\n",
       "      <td>0</td>\n",
       "      <td>...</td>\n",
       "      <td>0</td>\n",
       "      <td>0</td>\n",
       "      <td>0</td>\n",
       "      <td>0</td>\n",
       "      <td>0</td>\n",
       "      <td>1</td>\n",
       "      <td>0</td>\n",
       "      <td>0</td>\n",
       "      <td>0</td>\n",
       "      <td>0</td>\n",
       "    </tr>\n",
       "    <tr>\n",
       "      <td>3</td>\n",
       "      <td>0</td>\n",
       "      <td>1.0</td>\n",
       "      <td>305</td>\n",
       "      <td>1.0</td>\n",
       "      <td>No</td>\n",
       "      <td>1</td>\n",
       "      <td>0</td>\n",
       "      <td>0</td>\n",
       "      <td>0</td>\n",
       "      <td>0</td>\n",
       "      <td>...</td>\n",
       "      <td>0</td>\n",
       "      <td>0</td>\n",
       "      <td>0</td>\n",
       "      <td>0</td>\n",
       "      <td>0</td>\n",
       "      <td>0</td>\n",
       "      <td>1</td>\n",
       "      <td>0</td>\n",
       "      <td>0</td>\n",
       "      <td>0</td>\n",
       "    </tr>\n",
       "    <tr>\n",
       "      <td>6</td>\n",
       "      <td>1</td>\n",
       "      <td>2.0</td>\n",
       "      <td>1640</td>\n",
       "      <td>2.0</td>\n",
       "      <td>No</td>\n",
       "      <td>1</td>\n",
       "      <td>0</td>\n",
       "      <td>0</td>\n",
       "      <td>1</td>\n",
       "      <td>0</td>\n",
       "      <td>...</td>\n",
       "      <td>0</td>\n",
       "      <td>0</td>\n",
       "      <td>0</td>\n",
       "      <td>0</td>\n",
       "      <td>0</td>\n",
       "      <td>0</td>\n",
       "      <td>1</td>\n",
       "      <td>0</td>\n",
       "      <td>0</td>\n",
       "      <td>0</td>\n",
       "    </tr>\n",
       "    <tr>\n",
       "      <td>8</td>\n",
       "      <td>0</td>\n",
       "      <td>2.0</td>\n",
       "      <td>71</td>\n",
       "      <td>2.0</td>\n",
       "      <td>Yes</td>\n",
       "      <td>1</td>\n",
       "      <td>0</td>\n",
       "      <td>0</td>\n",
       "      <td>0</td>\n",
       "      <td>0</td>\n",
       "      <td>...</td>\n",
       "      <td>0</td>\n",
       "      <td>0</td>\n",
       "      <td>0</td>\n",
       "      <td>1</td>\n",
       "      <td>0</td>\n",
       "      <td>1</td>\n",
       "      <td>0</td>\n",
       "      <td>0</td>\n",
       "      <td>0</td>\n",
       "      <td>0</td>\n",
       "    </tr>\n",
       "    <tr>\n",
       "      <td>9</td>\n",
       "      <td>0</td>\n",
       "      <td>4.0</td>\n",
       "      <td>58</td>\n",
       "      <td>4.0</td>\n",
       "      <td>No</td>\n",
       "      <td>0</td>\n",
       "      <td>0</td>\n",
       "      <td>0</td>\n",
       "      <td>1</td>\n",
       "      <td>0</td>\n",
       "      <td>...</td>\n",
       "      <td>0</td>\n",
       "      <td>0</td>\n",
       "      <td>0</td>\n",
       "      <td>0</td>\n",
       "      <td>0</td>\n",
       "      <td>1</td>\n",
       "      <td>0</td>\n",
       "      <td>0</td>\n",
       "      <td>0</td>\n",
       "      <td>0</td>\n",
       "    </tr>\n",
       "  </tbody>\n",
       "</table>\n",
       "<p>5 rows × 49 columns</p>\n",
       "</div>"
      ],
      "text/plain": [
       "   Converted  TotalVisits  Total Time Spent on Website  Page Views Per Visit  \\\n",
       "2          1          2.0                         1532                   2.0   \n",
       "3          0          1.0                          305                   1.0   \n",
       "6          1          2.0                         1640                   2.0   \n",
       "8          0          2.0                           71                   2.0   \n",
       "9          0          4.0                           58                   4.0   \n",
       "\n",
       "  A free copy of Mastering The Interview  Lead Origin_Landing Page Submission  \\\n",
       "2                                    Yes                                    1   \n",
       "3                                     No                                    1   \n",
       "6                                     No                                    1   \n",
       "8                                    Yes                                    1   \n",
       "9                                     No                                    0   \n",
       "\n",
       "   Lead Origin_Lead Add Form  Lead Origin_Lead Import  Lead Source_Google  \\\n",
       "2                          0                        0                   0   \n",
       "3                          0                        0                   0   \n",
       "6                          0                        0                   1   \n",
       "8                          0                        0                   0   \n",
       "9                          0                        0                   1   \n",
       "\n",
       "   Lead Source_Olark Chat  ...  City_Other Cities  \\\n",
       "2                       0  ...                  0   \n",
       "3                       0  ...                  0   \n",
       "6                       0  ...                  0   \n",
       "8                       0  ...                  0   \n",
       "9                       0  ...                  0   \n",
       "\n",
       "   City_Other Cities of Maharashtra  City_Other Metro Cities  \\\n",
       "2                                 0                        0   \n",
       "3                                 0                        0   \n",
       "6                                 0                        0   \n",
       "8                                 0                        0   \n",
       "9                                 0                        0   \n",
       "\n",
       "   City_Thane & Outskirts  City_Tier II Cities  \\\n",
       "2                       0                    0   \n",
       "3                       0                    0   \n",
       "6                       0                    0   \n",
       "8                       1                    0   \n",
       "9                       0                    0   \n",
       "\n",
       "   Last Notable Activity_Email Opened  Last Notable Activity_Modified  \\\n",
       "2                                   1                               0   \n",
       "3                                   0                               1   \n",
       "6                                   0                               1   \n",
       "8                                   1                               0   \n",
       "9                                   1                               0   \n",
       "\n",
       "   Last Notable Activity_Others  \\\n",
       "2                             0   \n",
       "3                             0   \n",
       "6                             0   \n",
       "8                             0   \n",
       "9                             0   \n",
       "\n",
       "   Last Notable Activity_Page Visited on Website  \\\n",
       "2                                              0   \n",
       "3                                              0   \n",
       "6                                              0   \n",
       "8                                              0   \n",
       "9                                              0   \n",
       "\n",
       "   Last Notable Activity_SMS Sent  \n",
       "2                               0  \n",
       "3                               0  \n",
       "6                               0  \n",
       "8                               0  \n",
       "9                               0  \n",
       "\n",
       "[5 rows x 49 columns]"
      ]
     },
     "execution_count": 45,
     "metadata": {},
     "output_type": "execute_result"
    }
   ],
   "source": [
    "# Dummies creation\n",
    "\n",
    "cols = ['Lead Origin' , 'Lead Source' , 'Last Activity' , 'Specialization' , 'City', 'Last Notable Activity']\n",
    "\n",
    "\n",
    "leads = pd.get_dummies(leads, columns = cols , drop_first =True, )\n",
    "leads.head()\n"
   ]
  },
  {
   "cell_type": "markdown",
   "metadata": {},
   "source": [
    "###### Convert Yes-1 & No - 0 for 'A free copy of Mastering The Interview'"
   ]
  },
  {
   "cell_type": "code",
   "execution_count": 46,
   "metadata": {
    "scrolled": false
   },
   "outputs": [],
   "source": [
    "# Convert Yes-1 & No - 0 for 'A free copy of Mastering The Interview'\n",
    "\n",
    "leads['A free copy of Mastering The Interview'] = leads['A free copy of Mastering The Interview'].str.lower().map({'yes':1,'no':0}, na_action='ignore')"
   ]
  },
  {
   "cell_type": "code",
   "execution_count": 47,
   "metadata": {
    "scrolled": false
   },
   "outputs": [
    {
     "data": {
      "text/plain": [
       "0    2910\n",
       "1    2882\n",
       "Name: A free copy of Mastering The Interview, dtype: int64"
      ]
     },
     "execution_count": 47,
     "metadata": {},
     "output_type": "execute_result"
    }
   ],
   "source": [
    "leads['A free copy of Mastering The Interview'].value_counts()"
   ]
  },
  {
   "cell_type": "markdown",
   "metadata": {},
   "source": [
    "Fairly balanced and now numerical"
   ]
  },
  {
   "cell_type": "code",
   "execution_count": 48,
   "metadata": {
    "scrolled": false
   },
   "outputs": [
    {
     "name": "stdout",
     "output_type": "stream",
     "text": [
      "<class 'pandas.core.frame.DataFrame'>\n",
      "Int64Index: 5792 entries, 2 to 9239\n",
      "Data columns (total 49 columns):\n",
      "Converted                                        5792 non-null int64\n",
      "TotalVisits                                      5792 non-null float64\n",
      "Total Time Spent on Website                      5792 non-null int64\n",
      "Page Views Per Visit                             5792 non-null float64\n",
      "A free copy of Mastering The Interview           5792 non-null int64\n",
      "Lead Origin_Landing Page Submission              5792 non-null uint8\n",
      "Lead Origin_Lead Add Form                        5792 non-null uint8\n",
      "Lead Origin_Lead Import                          5792 non-null uint8\n",
      "Lead Source_Google                               5792 non-null uint8\n",
      "Lead Source_Olark Chat                           5792 non-null uint8\n",
      "Lead Source_Organic Search                       5792 non-null uint8\n",
      "Lead Source_Others                               5792 non-null uint8\n",
      "Lead Source_Reference                            5792 non-null uint8\n",
      "Last Activity_Email Bounced                      5792 non-null uint8\n",
      "Last Activity_Email Link Clicked                 5792 non-null uint8\n",
      "Last Activity_Email Opened                       5792 non-null uint8\n",
      "Last Activity_Form Submitted on Website          5792 non-null uint8\n",
      "Last Activity_Olark Chat Conversation            5792 non-null uint8\n",
      "Last Activity_Others                             5792 non-null uint8\n",
      "Last Activity_Page Visited on Website            5792 non-null uint8\n",
      "Last Activity_SMS Sent                           5792 non-null uint8\n",
      "Last Activity_Unreachable                        5792 non-null uint8\n",
      "Specialization_Business Administration           5792 non-null uint8\n",
      "Specialization_E-COMMERCE                        5792 non-null uint8\n",
      "Specialization_Finance Management                5792 non-null uint8\n",
      "Specialization_Healthcare Management             5792 non-null uint8\n",
      "Specialization_Hospitality Management            5792 non-null uint8\n",
      "Specialization_Human Resource Management         5792 non-null uint8\n",
      "Specialization_IT Projects Management            5792 non-null uint8\n",
      "Specialization_International Business            5792 non-null uint8\n",
      "Specialization_Marketing Management              5792 non-null uint8\n",
      "Specialization_Media and Advertising             5792 non-null uint8\n",
      "Specialization_Operations Management             5792 non-null uint8\n",
      "Specialization_Others                            5792 non-null uint8\n",
      "Specialization_Retail Management                 5792 non-null uint8\n",
      "Specialization_Rural and Agribusiness            5792 non-null uint8\n",
      "Specialization_Supply Chain Management           5792 non-null uint8\n",
      "Specialization_Travel and Tourism                5792 non-null uint8\n",
      "City_Mumbai                                      5792 non-null uint8\n",
      "City_Other Cities                                5792 non-null uint8\n",
      "City_Other Cities of Maharashtra                 5792 non-null uint8\n",
      "City_Other Metro Cities                          5792 non-null uint8\n",
      "City_Thane & Outskirts                           5792 non-null uint8\n",
      "City_Tier II Cities                              5792 non-null uint8\n",
      "Last Notable Activity_Email Opened               5792 non-null uint8\n",
      "Last Notable Activity_Modified                   5792 non-null uint8\n",
      "Last Notable Activity_Others                     5792 non-null uint8\n",
      "Last Notable Activity_Page Visited on Website    5792 non-null uint8\n",
      "Last Notable Activity_SMS Sent                   5792 non-null uint8\n",
      "dtypes: float64(2), int64(3), uint8(44)\n",
      "memory usage: 680.4 KB\n"
     ]
    }
   ],
   "source": [
    "# Checking if all the columns are now numerical\n",
    "leads.info()\n",
    "\n",
    "# ALL numeric values"
   ]
  },
  {
   "cell_type": "code",
   "execution_count": 49,
   "metadata": {
    "scrolled": true
   },
   "outputs": [
    {
     "data": {
      "text/plain": [
       "(5792, 49)"
      ]
     },
     "execution_count": 49,
     "metadata": {},
     "output_type": "execute_result"
    }
   ],
   "source": [
    "leads.shape"
   ]
  },
  {
   "cell_type": "markdown",
   "metadata": {},
   "source": [
    "### Modelling"
   ]
  },
  {
   "cell_type": "markdown",
   "metadata": {},
   "source": [
    "##### Setting the independent X and dependent Y\n",
    "\n",
    "X , indpendent features are the all columns except the dependent ' Converted'"
   ]
  },
  {
   "cell_type": "code",
   "execution_count": 50,
   "metadata": {
    "scrolled": false
   },
   "outputs": [
    {
     "data": {
      "text/plain": [
       "Index(['TotalVisits', 'Total Time Spent on Website', 'Page Views Per Visit',\n",
       "       'A free copy of Mastering The Interview',\n",
       "       'Lead Origin_Landing Page Submission', 'Lead Origin_Lead Add Form',\n",
       "       'Lead Origin_Lead Import', 'Lead Source_Google',\n",
       "       'Lead Source_Olark Chat', 'Lead Source_Organic Search',\n",
       "       'Lead Source_Others', 'Lead Source_Reference',\n",
       "       'Last Activity_Email Bounced', 'Last Activity_Email Link Clicked',\n",
       "       'Last Activity_Email Opened', 'Last Activity_Form Submitted on Website',\n",
       "       'Last Activity_Olark Chat Conversation', 'Last Activity_Others',\n",
       "       'Last Activity_Page Visited on Website', 'Last Activity_SMS Sent',\n",
       "       'Last Activity_Unreachable', 'Specialization_Business Administration',\n",
       "       'Specialization_E-COMMERCE', 'Specialization_Finance Management',\n",
       "       'Specialization_Healthcare Management',\n",
       "       'Specialization_Hospitality Management',\n",
       "       'Specialization_Human Resource Management',\n",
       "       'Specialization_IT Projects Management',\n",
       "       'Specialization_International Business',\n",
       "       'Specialization_Marketing Management',\n",
       "       'Specialization_Media and Advertising',\n",
       "       'Specialization_Operations Management', 'Specialization_Others',\n",
       "       'Specialization_Retail Management',\n",
       "       'Specialization_Rural and Agribusiness',\n",
       "       'Specialization_Supply Chain Management',\n",
       "       'Specialization_Travel and Tourism', 'City_Mumbai', 'City_Other Cities',\n",
       "       'City_Other Cities of Maharashtra', 'City_Other Metro Cities',\n",
       "       'City_Thane & Outskirts', 'City_Tier II Cities',\n",
       "       'Last Notable Activity_Email Opened', 'Last Notable Activity_Modified',\n",
       "       'Last Notable Activity_Others',\n",
       "       'Last Notable Activity_Page Visited on Website',\n",
       "       'Last Notable Activity_SMS Sent'],\n",
       "      dtype='object')"
      ]
     },
     "execution_count": 50,
     "metadata": {},
     "output_type": "execute_result"
    }
   ],
   "source": [
    "# Independent X\n",
    "\n",
    "# Putting feature variable to X\n",
    "X = leads.drop(['Converted'], axis=1)\n",
    "\n",
    "X.columns"
   ]
  },
  {
   "cell_type": "code",
   "execution_count": 51,
   "metadata": {},
   "outputs": [],
   "source": [
    "# Dependent Y\n",
    "\n",
    "Y = leads.Converted\n"
   ]
  },
  {
   "cell_type": "markdown",
   "metadata": {},
   "source": [
    "##### Test_Train Split\n",
    "\n",
    "Splitting 70:30"
   ]
  },
  {
   "cell_type": "code",
   "execution_count": 52,
   "metadata": {},
   "outputs": [],
   "source": [
    "X_train, X_test, Y_train, Y_test = train_test_split(X, Y, train_size=0.7, test_size=0.3, random_state=100)"
   ]
  },
  {
   "cell_type": "code",
   "execution_count": 53,
   "metadata": {
    "scrolled": true
   },
   "outputs": [
    {
     "data": {
      "text/plain": [
       "(4054, 48)"
      ]
     },
     "execution_count": 53,
     "metadata": {},
     "output_type": "execute_result"
    }
   ],
   "source": [
    "# Shape of training shape X\n",
    "X_train.shape"
   ]
  },
  {
   "cell_type": "code",
   "execution_count": 54,
   "metadata": {
    "scrolled": true
   },
   "outputs": [
    {
     "data": {
      "text/plain": [
       "(1738, 48)"
      ]
     },
     "execution_count": 54,
     "metadata": {},
     "output_type": "execute_result"
    }
   ],
   "source": [
    "# Shape of test set X\n",
    "X_test.shape"
   ]
  },
  {
   "cell_type": "markdown",
   "metadata": {},
   "source": [
    "### Feature Re Scaling\n",
    "\n",
    "By MinMax Scaler\n",
    "\n"
   ]
  },
  {
   "cell_type": "code",
   "execution_count": 55,
   "metadata": {
    "scrolled": true
   },
   "outputs": [],
   "source": [
    "### Columns needed to be scaled\n",
    "cols = [ 'TotalVisits', 'Total Time Spent on Website', 'Page Views Per Visit']"
   ]
  },
  {
   "cell_type": "code",
   "execution_count": 56,
   "metadata": {},
   "outputs": [],
   "source": [
    "    # Scaler object\n",
    "    scaler = MinMaxScaler()"
   ]
  },
  {
   "cell_type": "code",
   "execution_count": 57,
   "metadata": {},
   "outputs": [],
   "source": [
    "# Actual Scaling of specific columns\n",
    "\n",
    "X_train[cols]= scaler.fit_transform(X_train[cols])"
   ]
  },
  {
   "cell_type": "code",
   "execution_count": 58,
   "metadata": {},
   "outputs": [],
   "source": [
    "# Scaling for test set as well\n",
    "X_test[cols]= scaler.fit_transform(X_test[cols])"
   ]
  },
  {
   "cell_type": "markdown",
   "metadata": {},
   "source": [
    "#### Feature Scaling : RFE"
   ]
  },
  {
   "cell_type": "code",
   "execution_count": 59,
   "metadata": {},
   "outputs": [],
   "source": [
    "# Creating a logistic regression model\n",
    "\n",
    "logreg = LogisticRegression()"
   ]
  },
  {
   "cell_type": "code",
   "execution_count": 60,
   "metadata": {},
   "outputs": [],
   "source": [
    "from sklearn.feature_selection import RFE\n",
    "\n",
    "# running RFE with 15 variables as output\n",
    "\n",
    "rfe = RFE(logreg, 15)             \n",
    "rfe = rfe.fit(X_train, Y_train)"
   ]
  },
  {
   "cell_type": "code",
   "execution_count": 61,
   "metadata": {
    "scrolled": false
   },
   "outputs": [
    {
     "data": {
      "text/plain": [
       "[('TotalVisits', True, 1),\n",
       " ('Total Time Spent on Website', True, 1),\n",
       " ('Page Views Per Visit', True, 1),\n",
       " ('A free copy of Mastering The Interview', False, 6),\n",
       " ('Lead Origin_Landing Page Submission', True, 1),\n",
       " ('Lead Origin_Lead Add Form', True, 1),\n",
       " ('Lead Origin_Lead Import', False, 19),\n",
       " ('Lead Source_Google', False, 25),\n",
       " ('Lead Source_Olark Chat', True, 1),\n",
       " ('Lead Source_Organic Search', False, 21),\n",
       " ('Lead Source_Others', True, 1),\n",
       " ('Lead Source_Reference', True, 1),\n",
       " ('Last Activity_Email Bounced', True, 1),\n",
       " ('Last Activity_Email Link Clicked', False, 2),\n",
       " ('Last Activity_Email Opened', True, 1),\n",
       " ('Last Activity_Form Submitted on Website', False, 7),\n",
       " ('Last Activity_Olark Chat Conversation', False, 9),\n",
       " ('Last Activity_Others', True, 1),\n",
       " ('Last Activity_Page Visited on Website', False, 10),\n",
       " ('Last Activity_SMS Sent', True, 1),\n",
       " ('Last Activity_Unreachable', False, 3),\n",
       " ('Specialization_Business Administration', False, 29),\n",
       " ('Specialization_E-COMMERCE', False, 23),\n",
       " ('Specialization_Finance Management', False, 32),\n",
       " ('Specialization_Healthcare Management', False, 33),\n",
       " ('Specialization_Hospitality Management', False, 18),\n",
       " ('Specialization_Human Resource Management', False, 27),\n",
       " ('Specialization_IT Projects Management', False, 24),\n",
       " ('Specialization_International Business', False, 5),\n",
       " ('Specialization_Marketing Management', False, 26),\n",
       " ('Specialization_Media and Advertising', False, 34),\n",
       " ('Specialization_Operations Management', False, 16),\n",
       " ('Specialization_Others', False, 17),\n",
       " ('Specialization_Retail Management', False, 4),\n",
       " ('Specialization_Rural and Agribusiness', False, 28),\n",
       " ('Specialization_Supply Chain Management', False, 22),\n",
       " ('Specialization_Travel and Tourism', False, 20),\n",
       " ('City_Mumbai', False, 13),\n",
       " ('City_Other Cities', False, 12),\n",
       " ('City_Other Cities of Maharashtra', False, 15),\n",
       " ('City_Other Metro Cities', False, 31),\n",
       " ('City_Thane & Outskirts', False, 14),\n",
       " ('City_Tier II Cities', False, 30),\n",
       " ('Last Notable Activity_Email Opened', True, 1),\n",
       " ('Last Notable Activity_Modified', True, 1),\n",
       " ('Last Notable Activity_Others', False, 8),\n",
       " ('Last Notable Activity_Page Visited on Website', False, 11),\n",
       " ('Last Notable Activity_SMS Sent', True, 1)]"
      ]
     },
     "execution_count": 61,
     "metadata": {},
     "output_type": "execute_result"
    }
   ],
   "source": [
    "# Result of RFE with selection and ranking\n",
    "\n",
    "list(zip(X_train.columns, rfe.support_, rfe.ranking_))"
   ]
  },
  {
   "cell_type": "code",
   "execution_count": 62,
   "metadata": {
    "scrolled": true
   },
   "outputs": [
    {
     "data": {
      "text/plain": [
       "['TotalVisits',\n",
       " 'Total Time Spent on Website',\n",
       " 'Page Views Per Visit',\n",
       " 'Lead Origin_Landing Page Submission',\n",
       " 'Lead Origin_Lead Add Form',\n",
       " 'Lead Source_Olark Chat',\n",
       " 'Lead Source_Others',\n",
       " 'Lead Source_Reference',\n",
       " 'Last Activity_Email Bounced',\n",
       " 'Last Activity_Email Opened',\n",
       " 'Last Activity_Others',\n",
       " 'Last Activity_SMS Sent',\n",
       " 'Last Notable Activity_Email Opened',\n",
       " 'Last Notable Activity_Modified',\n",
       " 'Last Notable Activity_SMS Sent']"
      ]
     },
     "execution_count": 62,
     "metadata": {},
     "output_type": "execute_result"
    }
   ],
   "source": [
    "# Selected Features\n",
    "cols = list(X_train.columns[rfe.support_])\n",
    "cols"
   ]
  },
  {
   "cell_type": "markdown",
   "metadata": {},
   "source": [
    "### Model_0\n",
    "\n",
    "Starting model for to be iterated upon\n",
    "\n",
    "Using the features generated from RFE "
   ]
  },
  {
   "cell_type": "code",
   "execution_count": 63,
   "metadata": {
    "scrolled": false
   },
   "outputs": [
    {
     "data": {
      "text/html": [
       "<table class=\"simpletable\">\n",
       "<caption>Generalized Linear Model Regression Results</caption>\n",
       "<tr>\n",
       "  <th>Dep. Variable:</th>       <td>Converted</td>    <th>  No. Observations:  </th>  <td>  4054</td> \n",
       "</tr>\n",
       "<tr>\n",
       "  <th>Model:</th>                  <td>GLM</td>       <th>  Df Residuals:      </th>  <td>  4038</td> \n",
       "</tr>\n",
       "<tr>\n",
       "  <th>Model Family:</th>        <td>Binomial</td>     <th>  Df Model:          </th>  <td>    15</td> \n",
       "</tr>\n",
       "<tr>\n",
       "  <th>Link Function:</th>         <td>logit</td>      <th>  Scale:             </th> <td>  1.0000</td>\n",
       "</tr>\n",
       "<tr>\n",
       "  <th>Method:</th>                <td>IRLS</td>       <th>  Log-Likelihood:    </th> <td> -1911.8</td>\n",
       "</tr>\n",
       "<tr>\n",
       "  <th>Date:</th>            <td>Tue, 25 Aug 2020</td> <th>  Deviance:          </th> <td>  3823.6</td>\n",
       "</tr>\n",
       "<tr>\n",
       "  <th>Time:</th>                <td>02:05:58</td>     <th>  Pearson chi2:      </th> <td>4.21e+03</td>\n",
       "</tr>\n",
       "<tr>\n",
       "  <th>No. Iterations:</th>          <td>6</td>        <th>                     </th>     <td> </td>   \n",
       "</tr>\n",
       "<tr>\n",
       "  <th>Covariance Type:</th>     <td>nonrobust</td>    <th>                     </th>     <td> </td>   \n",
       "</tr>\n",
       "</table>\n",
       "<table class=\"simpletable\">\n",
       "<tr>\n",
       "                   <td></td>                      <th>coef</th>     <th>std err</th>      <th>z</th>      <th>P>|z|</th>  <th>[0.025</th>    <th>0.975]</th>  \n",
       "</tr>\n",
       "<tr>\n",
       "  <th>const</th>                               <td>   -1.1585</td> <td>    0.223</td> <td>   -5.188</td> <td> 0.000</td> <td>   -1.596</td> <td>   -0.721</td>\n",
       "</tr>\n",
       "<tr>\n",
       "  <th>TotalVisits</th>                         <td>    1.0443</td> <td>    0.271</td> <td>    3.859</td> <td> 0.000</td> <td>    0.514</td> <td>    1.575</td>\n",
       "</tr>\n",
       "<tr>\n",
       "  <th>Total Time Spent on Website</th>         <td>    4.5040</td> <td>    0.183</td> <td>   24.618</td> <td> 0.000</td> <td>    4.145</td> <td>    4.863</td>\n",
       "</tr>\n",
       "<tr>\n",
       "  <th>Page Views Per Visit</th>                <td>   -0.9295</td> <td>    0.276</td> <td>   -3.369</td> <td> 0.001</td> <td>   -1.470</td> <td>   -0.389</td>\n",
       "</tr>\n",
       "<tr>\n",
       "  <th>Lead Origin_Landing Page Submission</th> <td>   -1.1486</td> <td>    0.152</td> <td>   -7.564</td> <td> 0.000</td> <td>   -1.446</td> <td>   -0.851</td>\n",
       "</tr>\n",
       "<tr>\n",
       "  <th>Lead Origin_Lead Add Form</th>           <td>    1.0352</td> <td>    0.841</td> <td>    1.231</td> <td> 0.218</td> <td>   -0.614</td> <td>    2.684</td>\n",
       "</tr>\n",
       "<tr>\n",
       "  <th>Lead Source_Olark Chat</th>              <td>    0.7284</td> <td>    0.240</td> <td>    3.040</td> <td> 0.002</td> <td>    0.259</td> <td>    1.198</td>\n",
       "</tr>\n",
       "<tr>\n",
       "  <th>Lead Source_Others</th>                  <td>    1.3418</td> <td>    0.341</td> <td>    3.932</td> <td> 0.000</td> <td>    0.673</td> <td>    2.011</td>\n",
       "</tr>\n",
       "<tr>\n",
       "  <th>Lead Source_Reference</th>               <td>    2.6542</td> <td>    0.901</td> <td>    2.947</td> <td> 0.003</td> <td>    0.889</td> <td>    4.420</td>\n",
       "</tr>\n",
       "<tr>\n",
       "  <th>Last Activity_Email Bounced</th>         <td>   -1.5181</td> <td>    0.423</td> <td>   -3.585</td> <td> 0.000</td> <td>   -2.348</td> <td>   -0.688</td>\n",
       "</tr>\n",
       "<tr>\n",
       "  <th>Last Activity_Email Opened</th>          <td>    0.9526</td> <td>    0.195</td> <td>    4.891</td> <td> 0.000</td> <td>    0.571</td> <td>    1.334</td>\n",
       "</tr>\n",
       "<tr>\n",
       "  <th>Last Activity_Others</th>                <td>    1.2006</td> <td>    0.353</td> <td>    3.400</td> <td> 0.001</td> <td>    0.508</td> <td>    1.893</td>\n",
       "</tr>\n",
       "<tr>\n",
       "  <th>Last Activity_SMS Sent</th>              <td>    0.8447</td> <td>    0.196</td> <td>    4.303</td> <td> 0.000</td> <td>    0.460</td> <td>    1.230</td>\n",
       "</tr>\n",
       "<tr>\n",
       "  <th>Last Notable Activity_Email Opened</th>  <td>   -0.6336</td> <td>    0.248</td> <td>   -2.557</td> <td> 0.011</td> <td>   -1.119</td> <td>   -0.148</td>\n",
       "</tr>\n",
       "<tr>\n",
       "  <th>Last Notable Activity_Modified</th>      <td>   -0.7057</td> <td>    0.184</td> <td>   -3.826</td> <td> 0.000</td> <td>   -1.067</td> <td>   -0.344</td>\n",
       "</tr>\n",
       "<tr>\n",
       "  <th>Last Notable Activity_SMS Sent</th>      <td>    0.6818</td> <td>    0.252</td> <td>    2.700</td> <td> 0.007</td> <td>    0.187</td> <td>    1.177</td>\n",
       "</tr>\n",
       "</table>"
      ],
      "text/plain": [
       "<class 'statsmodels.iolib.summary.Summary'>\n",
       "\"\"\"\n",
       "                 Generalized Linear Model Regression Results                  \n",
       "==============================================================================\n",
       "Dep. Variable:              Converted   No. Observations:                 4054\n",
       "Model:                            GLM   Df Residuals:                     4038\n",
       "Model Family:                Binomial   Df Model:                           15\n",
       "Link Function:                  logit   Scale:                          1.0000\n",
       "Method:                          IRLS   Log-Likelihood:                -1911.8\n",
       "Date:                Tue, 25 Aug 2020   Deviance:                       3823.6\n",
       "Time:                        02:05:58   Pearson chi2:                 4.21e+03\n",
       "No. Iterations:                     6                                         \n",
       "Covariance Type:            nonrobust                                         \n",
       "=======================================================================================================\n",
       "                                          coef    std err          z      P>|z|      [0.025      0.975]\n",
       "-------------------------------------------------------------------------------------------------------\n",
       "const                                  -1.1585      0.223     -5.188      0.000      -1.596      -0.721\n",
       "TotalVisits                             1.0443      0.271      3.859      0.000       0.514       1.575\n",
       "Total Time Spent on Website             4.5040      0.183     24.618      0.000       4.145       4.863\n",
       "Page Views Per Visit                   -0.9295      0.276     -3.369      0.001      -1.470      -0.389\n",
       "Lead Origin_Landing Page Submission    -1.1486      0.152     -7.564      0.000      -1.446      -0.851\n",
       "Lead Origin_Lead Add Form               1.0352      0.841      1.231      0.218      -0.614       2.684\n",
       "Lead Source_Olark Chat                  0.7284      0.240      3.040      0.002       0.259       1.198\n",
       "Lead Source_Others                      1.3418      0.341      3.932      0.000       0.673       2.011\n",
       "Lead Source_Reference                   2.6542      0.901      2.947      0.003       0.889       4.420\n",
       "Last Activity_Email Bounced            -1.5181      0.423     -3.585      0.000      -2.348      -0.688\n",
       "Last Activity_Email Opened              0.9526      0.195      4.891      0.000       0.571       1.334\n",
       "Last Activity_Others                    1.2006      0.353      3.400      0.001       0.508       1.893\n",
       "Last Activity_SMS Sent                  0.8447      0.196      4.303      0.000       0.460       1.230\n",
       "Last Notable Activity_Email Opened     -0.6336      0.248     -2.557      0.011      -1.119      -0.148\n",
       "Last Notable Activity_Modified         -0.7057      0.184     -3.826      0.000      -1.067      -0.344\n",
       "Last Notable Activity_SMS Sent          0.6818      0.252      2.700      0.007       0.187       1.177\n",
       "=======================================================================================================\n",
       "\"\"\""
      ]
     },
     "execution_count": 63,
     "metadata": {},
     "output_type": "execute_result"
    }
   ],
   "source": [
    "# Running logistic regression Using Stats model \n",
    "\n",
    "# Adding intercept\n",
    "X_train_sm = sm.add_constant(X_train[cols])\n",
    "\n",
    "# running logistic regression \n",
    "logModel_0 = sm.GLM(Y_train,X_train_sm, family = sm.families.Binomial())\n",
    "result = logModel_0.fit()\n",
    "result.summary()"
   ]
  },
  {
   "cell_type": "markdown",
   "metadata": {},
   "source": [
    "Lead Orgin_ lead Add form & Last Activity_ Unreachable not significant at 5% significance"
   ]
  },
  {
   "cell_type": "code",
   "execution_count": 64,
   "metadata": {
    "scrolled": false
   },
   "outputs": [
    {
     "data": {
      "text/html": [
       "<div>\n",
       "<style scoped>\n",
       "    .dataframe tbody tr th:only-of-type {\n",
       "        vertical-align: middle;\n",
       "    }\n",
       "\n",
       "    .dataframe tbody tr th {\n",
       "        vertical-align: top;\n",
       "    }\n",
       "\n",
       "    .dataframe thead th {\n",
       "        text-align: right;\n",
       "    }\n",
       "</style>\n",
       "<table border=\"1\" class=\"dataframe\">\n",
       "  <thead>\n",
       "    <tr style=\"text-align: right;\">\n",
       "      <th></th>\n",
       "      <th>Features</th>\n",
       "      <th>VIF</th>\n",
       "    </tr>\n",
       "  </thead>\n",
       "  <tbody>\n",
       "    <tr>\n",
       "      <td>4</td>\n",
       "      <td>Lead Origin_Lead Add Form</td>\n",
       "      <td>21.30</td>\n",
       "    </tr>\n",
       "    <tr>\n",
       "      <td>7</td>\n",
       "      <td>Lead Source_Reference</td>\n",
       "      <td>20.79</td>\n",
       "    </tr>\n",
       "    <tr>\n",
       "      <td>12</td>\n",
       "      <td>Last Notable Activity_Email Opened</td>\n",
       "      <td>10.84</td>\n",
       "    </tr>\n",
       "    <tr>\n",
       "      <td>9</td>\n",
       "      <td>Last Activity_Email Opened</td>\n",
       "      <td>9.17</td>\n",
       "    </tr>\n",
       "    <tr>\n",
       "      <td>14</td>\n",
       "      <td>Last Notable Activity_SMS Sent</td>\n",
       "      <td>8.67</td>\n",
       "    </tr>\n",
       "    <tr>\n",
       "      <td>3</td>\n",
       "      <td>Lead Origin_Landing Page Submission</td>\n",
       "      <td>7.59</td>\n",
       "    </tr>\n",
       "    <tr>\n",
       "      <td>11</td>\n",
       "      <td>Last Activity_SMS Sent</td>\n",
       "      <td>7.42</td>\n",
       "    </tr>\n",
       "    <tr>\n",
       "      <td>2</td>\n",
       "      <td>Page Views Per Visit</td>\n",
       "      <td>6.22</td>\n",
       "    </tr>\n",
       "    <tr>\n",
       "      <td>0</td>\n",
       "      <td>TotalVisits</td>\n",
       "      <td>4.08</td>\n",
       "    </tr>\n",
       "    <tr>\n",
       "      <td>13</td>\n",
       "      <td>Last Notable Activity_Modified</td>\n",
       "      <td>4.02</td>\n",
       "    </tr>\n",
       "    <tr>\n",
       "      <td>1</td>\n",
       "      <td>Total Time Spent on Website</td>\n",
       "      <td>2.30</td>\n",
       "    </tr>\n",
       "    <tr>\n",
       "      <td>6</td>\n",
       "      <td>Lead Source_Others</td>\n",
       "      <td>1.32</td>\n",
       "    </tr>\n",
       "    <tr>\n",
       "      <td>5</td>\n",
       "      <td>Lead Source_Olark Chat</td>\n",
       "      <td>1.31</td>\n",
       "    </tr>\n",
       "    <tr>\n",
       "      <td>8</td>\n",
       "      <td>Last Activity_Email Bounced</td>\n",
       "      <td>1.20</td>\n",
       "    </tr>\n",
       "    <tr>\n",
       "      <td>10</td>\n",
       "      <td>Last Activity_Others</td>\n",
       "      <td>1.05</td>\n",
       "    </tr>\n",
       "  </tbody>\n",
       "</table>\n",
       "</div>"
      ],
      "text/plain": [
       "                               Features    VIF\n",
       "4             Lead Origin_Lead Add Form  21.30\n",
       "7                 Lead Source_Reference  20.79\n",
       "12   Last Notable Activity_Email Opened  10.84\n",
       "9            Last Activity_Email Opened   9.17\n",
       "14       Last Notable Activity_SMS Sent   8.67\n",
       "3   Lead Origin_Landing Page Submission   7.59\n",
       "11               Last Activity_SMS Sent   7.42\n",
       "2                  Page Views Per Visit   6.22\n",
       "0                           TotalVisits   4.08\n",
       "13       Last Notable Activity_Modified   4.02\n",
       "1           Total Time Spent on Website   2.30\n",
       "6                    Lead Source_Others   1.32\n",
       "5                Lead Source_Olark Chat   1.31\n",
       "8           Last Activity_Email Bounced   1.20\n",
       "10                 Last Activity_Others   1.05"
      ]
     },
     "execution_count": 64,
     "metadata": {},
     "output_type": "execute_result"
    }
   ],
   "source": [
    "# Check for the VIF values of the feature variables.\n",
    "\n",
    "# Create a dataframe that will contain the names of all the feature variables and their respective VIFs\n",
    "vif = pd.DataFrame()\n",
    "vif['Features'] = X_train[cols].columns\n",
    "vif['VIF'] = [variance_inflation_factor(X_train[cols].values, i) for i in range(X_train[cols].shape[1])]\n",
    "vif['VIF'] = round(vif['VIF'], 2)\n",
    "vif = vif.sort_values(by = \"VIF\", ascending = False)\n",
    "vif"
   ]
  },
  {
   "cell_type": "markdown",
   "metadata": {},
   "source": [
    "Many features above accepted VIF at cut off of 3\n",
    "\n",
    "##### Remove \"Lead Origin_Lead Add Form\"  : High VIF\n",
    "\n",
    "To remove features one at a time"
   ]
  },
  {
   "cell_type": "markdown",
   "metadata": {},
   "source": [
    "##### Model-0 evaluation\n",
    "\n",
    "Before we optmise the model, lets calculate the base evaluation to get some indication if we are likely to achive desired precision and recall.\n",
    "\n",
    "We need ensure detection of maximun True case, Hence Sensitivity/Recall\n",
    "\n",
    "Also We need to ensure high 'Positive Predictive Value' , hence Precision, as business objectives want to convert 80% of effort\n",
    "\n",
    "Accuracy is check to get an overall feel of the model performance"
   ]
  },
  {
   "cell_type": "code",
   "execution_count": 65,
   "metadata": {
    "scrolled": true
   },
   "outputs": [
    {
     "data": {
      "text/plain": [
       "3188    0.983001\n",
       "8278    0.190646\n",
       "8129    0.796727\n",
       "2393    0.662948\n",
       "1016    0.164717\n",
       "1724    0.166792\n",
       "48      0.587312\n",
       "8842    0.013941\n",
       "7812    0.349487\n",
       "3008    0.572367\n",
       "dtype: float64"
      ]
     },
     "execution_count": 65,
     "metadata": {},
     "output_type": "execute_result"
    }
   ],
   "source": [
    "# Getting the predicted values on the train set\n",
    "Y_train_pred = result.predict(X_train_sm)\n",
    "Y_train_pred[:10]"
   ]
  },
  {
   "cell_type": "markdown",
   "metadata": {},
   "source": [
    "##### Creating a dataframe with the actual conversion flag and the predicted probabilities"
   ]
  },
  {
   "cell_type": "code",
   "execution_count": 66,
   "metadata": {
    "scrolled": true
   },
   "outputs": [
    {
     "data": {
      "text/html": [
       "<div>\n",
       "<style scoped>\n",
       "    .dataframe tbody tr th:only-of-type {\n",
       "        vertical-align: middle;\n",
       "    }\n",
       "\n",
       "    .dataframe tbody tr th {\n",
       "        vertical-align: top;\n",
       "    }\n",
       "\n",
       "    .dataframe thead th {\n",
       "        text-align: right;\n",
       "    }\n",
       "</style>\n",
       "<table border=\"1\" class=\"dataframe\">\n",
       "  <thead>\n",
       "    <tr style=\"text-align: right;\">\n",
       "      <th></th>\n",
       "      <th>Converted</th>\n",
       "      <th>Convert_Prob</th>\n",
       "    </tr>\n",
       "  </thead>\n",
       "  <tbody>\n",
       "    <tr>\n",
       "      <td>3188</td>\n",
       "      <td>0</td>\n",
       "      <td>0.983001</td>\n",
       "    </tr>\n",
       "    <tr>\n",
       "      <td>8278</td>\n",
       "      <td>0</td>\n",
       "      <td>0.190646</td>\n",
       "    </tr>\n",
       "    <tr>\n",
       "      <td>8129</td>\n",
       "      <td>0</td>\n",
       "      <td>0.796727</td>\n",
       "    </tr>\n",
       "    <tr>\n",
       "      <td>2393</td>\n",
       "      <td>1</td>\n",
       "      <td>0.662948</td>\n",
       "    </tr>\n",
       "    <tr>\n",
       "      <td>1016</td>\n",
       "      <td>0</td>\n",
       "      <td>0.164717</td>\n",
       "    </tr>\n",
       "  </tbody>\n",
       "</table>\n",
       "</div>"
      ],
      "text/plain": [
       "      Converted  Convert_Prob\n",
       "3188          0      0.983001\n",
       "8278          0      0.190646\n",
       "8129          0      0.796727\n",
       "2393          1      0.662948\n",
       "1016          0      0.164717"
      ]
     },
     "execution_count": 66,
     "metadata": {},
     "output_type": "execute_result"
    }
   ],
   "source": [
    "Y_train_pred_final = pd.DataFrame({'Converted':Y_train.values, 'Convert_Prob':Y_train_pred})\n",
    "Y_train_pred_final.head()"
   ]
  },
  {
   "cell_type": "markdown",
   "metadata": {},
   "source": [
    "##### Creating new column 'predicted' with 1 if Convert_Prob > 0.45 else 0"
   ]
  },
  {
   "cell_type": "code",
   "execution_count": 67,
   "metadata": {
    "scrolled": true
   },
   "outputs": [
    {
     "data": {
      "text/html": [
       "<div>\n",
       "<style scoped>\n",
       "    .dataframe tbody tr th:only-of-type {\n",
       "        vertical-align: middle;\n",
       "    }\n",
       "\n",
       "    .dataframe tbody tr th {\n",
       "        vertical-align: top;\n",
       "    }\n",
       "\n",
       "    .dataframe thead th {\n",
       "        text-align: right;\n",
       "    }\n",
       "</style>\n",
       "<table border=\"1\" class=\"dataframe\">\n",
       "  <thead>\n",
       "    <tr style=\"text-align: right;\">\n",
       "      <th></th>\n",
       "      <th>Converted</th>\n",
       "      <th>Convert_Prob</th>\n",
       "      <th>predicted</th>\n",
       "    </tr>\n",
       "  </thead>\n",
       "  <tbody>\n",
       "    <tr>\n",
       "      <td>3188</td>\n",
       "      <td>0</td>\n",
       "      <td>0.983001</td>\n",
       "      <td>1</td>\n",
       "    </tr>\n",
       "    <tr>\n",
       "      <td>8278</td>\n",
       "      <td>0</td>\n",
       "      <td>0.190646</td>\n",
       "      <td>0</td>\n",
       "    </tr>\n",
       "    <tr>\n",
       "      <td>8129</td>\n",
       "      <td>0</td>\n",
       "      <td>0.796727</td>\n",
       "      <td>1</td>\n",
       "    </tr>\n",
       "    <tr>\n",
       "      <td>2393</td>\n",
       "      <td>1</td>\n",
       "      <td>0.662948</td>\n",
       "      <td>1</td>\n",
       "    </tr>\n",
       "    <tr>\n",
       "      <td>1016</td>\n",
       "      <td>0</td>\n",
       "      <td>0.164717</td>\n",
       "      <td>0</td>\n",
       "    </tr>\n",
       "  </tbody>\n",
       "</table>\n",
       "</div>"
      ],
      "text/plain": [
       "      Converted  Convert_Prob  predicted\n",
       "3188          0      0.983001          1\n",
       "8278          0      0.190646          0\n",
       "8129          0      0.796727          1\n",
       "2393          1      0.662948          1\n",
       "1016          0      0.164717          0"
      ]
     },
     "execution_count": 67,
     "metadata": {},
     "output_type": "execute_result"
    }
   ],
   "source": [
    "Y_train_pred_final['predicted'] = Y_train_pred_final.Convert_Prob.map(lambda x: 1 if x > 0.45 else 0)\n",
    "Y_train_pred_final.head()"
   ]
  },
  {
   "cell_type": "code",
   "execution_count": 68,
   "metadata": {},
   "outputs": [
    {
     "data": {
      "text/plain": [
       "array([[1815,  451],\n",
       "       [ 422, 1366]], dtype=int64)"
      ]
     },
     "execution_count": 68,
     "metadata": {},
     "output_type": "execute_result"
    }
   ],
   "source": [
    "# Confusion matrix\n",
    "\n",
    "confusion = metrics.confusion_matrix(Y_train_pred_final.Converted, Y_train_pred_final.predicted )\n",
    "confusion"
   ]
  },
  {
   "cell_type": "code",
   "execution_count": 69,
   "metadata": {},
   "outputs": [
    {
     "data": {
      "text/plain": [
       "0.7847"
      ]
     },
     "execution_count": 69,
     "metadata": {},
     "output_type": "execute_result"
    }
   ],
   "source": [
    "# Accuracy\n",
    "metrics.accuracy_score(Y_train_pred_final.Converted, Y_train_pred_final.predicted ).round(4)"
   ]
  },
  {
   "cell_type": "code",
   "execution_count": 70,
   "metadata": {
    "scrolled": false
   },
   "outputs": [
    {
     "data": {
      "text/plain": [
       "0.764"
      ]
     },
     "execution_count": 70,
     "metadata": {},
     "output_type": "execute_result"
    }
   ],
   "source": [
    "# Recall\n",
    "metrics.recall_score(Y_train_pred_final.Converted, Y_train_pred_final.predicted ).round(4)"
   ]
  },
  {
   "cell_type": "code",
   "execution_count": 71,
   "metadata": {
    "scrolled": false
   },
   "outputs": [
    {
     "data": {
      "text/plain": [
       "0.7518"
      ]
     },
     "execution_count": 71,
     "metadata": {},
     "output_type": "execute_result"
    }
   ],
   "source": [
    "# Precision\n",
    "metrics.precision_score(Y_train_pred_final.Converted, Y_train_pred_final.predicted ).round(4)"
   ]
  },
  {
   "cell_type": "markdown",
   "metadata": {},
   "source": [
    "Initial evaluation seem to suggest we can possibly get an acceptable model as we refine this current model"
   ]
  },
  {
   "cell_type": "markdown",
   "metadata": {},
   "source": [
    "### Model-1 : Dropped 'Lead Origin_Lead Add Form'\n",
    "\n",
    "Not significant as well as highest VIF"
   ]
  },
  {
   "cell_type": "code",
   "execution_count": 72,
   "metadata": {},
   "outputs": [],
   "source": [
    "# removing Lead Orgin_Lead Add Form\n",
    "cols.remove('Lead Origin_Lead Add Form')"
   ]
  },
  {
   "cell_type": "code",
   "execution_count": 73,
   "metadata": {
    "scrolled": false
   },
   "outputs": [
    {
     "data": {
      "text/html": [
       "<table class=\"simpletable\">\n",
       "<caption>Generalized Linear Model Regression Results</caption>\n",
       "<tr>\n",
       "  <th>Dep. Variable:</th>       <td>Converted</td>    <th>  No. Observations:  </th>  <td>  4054</td> \n",
       "</tr>\n",
       "<tr>\n",
       "  <th>Model:</th>                  <td>GLM</td>       <th>  Df Residuals:      </th>  <td>  4039</td> \n",
       "</tr>\n",
       "<tr>\n",
       "  <th>Model Family:</th>        <td>Binomial</td>     <th>  Df Model:          </th>  <td>    14</td> \n",
       "</tr>\n",
       "<tr>\n",
       "  <th>Link Function:</th>         <td>logit</td>      <th>  Scale:             </th> <td>  1.0000</td>\n",
       "</tr>\n",
       "<tr>\n",
       "  <th>Method:</th>                <td>IRLS</td>       <th>  Log-Likelihood:    </th> <td> -1912.7</td>\n",
       "</tr>\n",
       "<tr>\n",
       "  <th>Date:</th>            <td>Tue, 25 Aug 2020</td> <th>  Deviance:          </th> <td>  3825.3</td>\n",
       "</tr>\n",
       "<tr>\n",
       "  <th>Time:</th>                <td>02:06:00</td>     <th>  Pearson chi2:      </th> <td>4.21e+03</td>\n",
       "</tr>\n",
       "<tr>\n",
       "  <th>No. Iterations:</th>          <td>6</td>        <th>                     </th>     <td> </td>   \n",
       "</tr>\n",
       "<tr>\n",
       "  <th>Covariance Type:</th>     <td>nonrobust</td>    <th>                     </th>     <td> </td>   \n",
       "</tr>\n",
       "</table>\n",
       "<table class=\"simpletable\">\n",
       "<tr>\n",
       "                   <td></td>                      <th>coef</th>     <th>std err</th>      <th>z</th>      <th>P>|z|</th>  <th>[0.025</th>    <th>0.975]</th>  \n",
       "</tr>\n",
       "<tr>\n",
       "  <th>const</th>                               <td>   -1.1358</td> <td>    0.223</td> <td>   -5.100</td> <td> 0.000</td> <td>   -1.572</td> <td>   -0.699</td>\n",
       "</tr>\n",
       "<tr>\n",
       "  <th>TotalVisits</th>                         <td>    1.0371</td> <td>    0.271</td> <td>    3.833</td> <td> 0.000</td> <td>    0.507</td> <td>    1.567</td>\n",
       "</tr>\n",
       "<tr>\n",
       "  <th>Total Time Spent on Website</th>         <td>    4.4990</td> <td>    0.183</td> <td>   24.597</td> <td> 0.000</td> <td>    4.141</td> <td>    4.857</td>\n",
       "</tr>\n",
       "<tr>\n",
       "  <th>Page Views Per Visit</th>                <td>   -0.9541</td> <td>    0.276</td> <td>   -3.462</td> <td> 0.001</td> <td>   -1.494</td> <td>   -0.414</td>\n",
       "</tr>\n",
       "<tr>\n",
       "  <th>Lead Origin_Landing Page Submission</th> <td>   -1.1669</td> <td>    0.151</td> <td>   -7.704</td> <td> 0.000</td> <td>   -1.464</td> <td>   -0.870</td>\n",
       "</tr>\n",
       "<tr>\n",
       "  <th>Lead Source_Olark Chat</th>              <td>    0.7103</td> <td>    0.239</td> <td>    2.969</td> <td> 0.003</td> <td>    0.241</td> <td>    1.179</td>\n",
       "</tr>\n",
       "<tr>\n",
       "  <th>Lead Source_Others</th>                  <td>    1.5115</td> <td>    0.318</td> <td>    4.751</td> <td> 0.000</td> <td>    0.888</td> <td>    2.135</td>\n",
       "</tr>\n",
       "<tr>\n",
       "  <th>Lead Source_Reference</th>               <td>    3.6600</td> <td>    0.369</td> <td>    9.931</td> <td> 0.000</td> <td>    2.938</td> <td>    4.382</td>\n",
       "</tr>\n",
       "<tr>\n",
       "  <th>Last Activity_Email Bounced</th>         <td>   -1.5163</td> <td>    0.423</td> <td>   -3.581</td> <td> 0.000</td> <td>   -2.346</td> <td>   -0.686</td>\n",
       "</tr>\n",
       "<tr>\n",
       "  <th>Last Activity_Email Opened</th>          <td>    0.9683</td> <td>    0.194</td> <td>    4.986</td> <td> 0.000</td> <td>    0.588</td> <td>    1.349</td>\n",
       "</tr>\n",
       "<tr>\n",
       "  <th>Last Activity_Others</th>                <td>    1.2036</td> <td>    0.353</td> <td>    3.405</td> <td> 0.001</td> <td>    0.511</td> <td>    1.896</td>\n",
       "</tr>\n",
       "<tr>\n",
       "  <th>Last Activity_SMS Sent</th>              <td>    0.8535</td> <td>    0.196</td> <td>    4.350</td> <td> 0.000</td> <td>    0.469</td> <td>    1.238</td>\n",
       "</tr>\n",
       "<tr>\n",
       "  <th>Last Notable Activity_Email Opened</th>  <td>   -0.6428</td> <td>    0.248</td> <td>   -2.597</td> <td> 0.009</td> <td>   -1.128</td> <td>   -0.158</td>\n",
       "</tr>\n",
       "<tr>\n",
       "  <th>Last Notable Activity_Modified</th>      <td>   -0.7064</td> <td>    0.185</td> <td>   -3.827</td> <td> 0.000</td> <td>   -1.068</td> <td>   -0.345</td>\n",
       "</tr>\n",
       "<tr>\n",
       "  <th>Last Notable Activity_SMS Sent</th>      <td>    0.6799</td> <td>    0.252</td> <td>    2.693</td> <td> 0.007</td> <td>    0.185</td> <td>    1.175</td>\n",
       "</tr>\n",
       "</table>"
      ],
      "text/plain": [
       "<class 'statsmodels.iolib.summary.Summary'>\n",
       "\"\"\"\n",
       "                 Generalized Linear Model Regression Results                  \n",
       "==============================================================================\n",
       "Dep. Variable:              Converted   No. Observations:                 4054\n",
       "Model:                            GLM   Df Residuals:                     4039\n",
       "Model Family:                Binomial   Df Model:                           14\n",
       "Link Function:                  logit   Scale:                          1.0000\n",
       "Method:                          IRLS   Log-Likelihood:                -1912.7\n",
       "Date:                Tue, 25 Aug 2020   Deviance:                       3825.3\n",
       "Time:                        02:06:00   Pearson chi2:                 4.21e+03\n",
       "No. Iterations:                     6                                         \n",
       "Covariance Type:            nonrobust                                         \n",
       "=======================================================================================================\n",
       "                                          coef    std err          z      P>|z|      [0.025      0.975]\n",
       "-------------------------------------------------------------------------------------------------------\n",
       "const                                  -1.1358      0.223     -5.100      0.000      -1.572      -0.699\n",
       "TotalVisits                             1.0371      0.271      3.833      0.000       0.507       1.567\n",
       "Total Time Spent on Website             4.4990      0.183     24.597      0.000       4.141       4.857\n",
       "Page Views Per Visit                   -0.9541      0.276     -3.462      0.001      -1.494      -0.414\n",
       "Lead Origin_Landing Page Submission    -1.1669      0.151     -7.704      0.000      -1.464      -0.870\n",
       "Lead Source_Olark Chat                  0.7103      0.239      2.969      0.003       0.241       1.179\n",
       "Lead Source_Others                      1.5115      0.318      4.751      0.000       0.888       2.135\n",
       "Lead Source_Reference                   3.6600      0.369      9.931      0.000       2.938       4.382\n",
       "Last Activity_Email Bounced            -1.5163      0.423     -3.581      0.000      -2.346      -0.686\n",
       "Last Activity_Email Opened              0.9683      0.194      4.986      0.000       0.588       1.349\n",
       "Last Activity_Others                    1.2036      0.353      3.405      0.001       0.511       1.896\n",
       "Last Activity_SMS Sent                  0.8535      0.196      4.350      0.000       0.469       1.238\n",
       "Last Notable Activity_Email Opened     -0.6428      0.248     -2.597      0.009      -1.128      -0.158\n",
       "Last Notable Activity_Modified         -0.7064      0.185     -3.827      0.000      -1.068      -0.345\n",
       "Last Notable Activity_SMS Sent          0.6799      0.252      2.693      0.007       0.185       1.175\n",
       "=======================================================================================================\n",
       "\"\"\""
      ]
     },
     "execution_count": 73,
     "metadata": {},
     "output_type": "execute_result"
    }
   ],
   "source": [
    "# Getting model-1 using stats model\n",
    "\n",
    "X_train_sm = sm.add_constant(X_train[cols])\n",
    "logMod_1 = sm.GLM(Y_train,X_train_sm, family = sm.families.Binomial())\n",
    "result = logMod_1.fit()\n",
    "result.summary()"
   ]
  },
  {
   "cell_type": "markdown",
   "metadata": {},
   "source": [
    "1. Sign of all coefficient remain same\n",
    "2. Last Activity_Unreachable not significant @ significance level of 5%"
   ]
  },
  {
   "cell_type": "code",
   "execution_count": 74,
   "metadata": {},
   "outputs": [
    {
     "data": {
      "text/html": [
       "<div>\n",
       "<style scoped>\n",
       "    .dataframe tbody tr th:only-of-type {\n",
       "        vertical-align: middle;\n",
       "    }\n",
       "\n",
       "    .dataframe tbody tr th {\n",
       "        vertical-align: top;\n",
       "    }\n",
       "\n",
       "    .dataframe thead th {\n",
       "        text-align: right;\n",
       "    }\n",
       "</style>\n",
       "<table border=\"1\" class=\"dataframe\">\n",
       "  <thead>\n",
       "    <tr style=\"text-align: right;\">\n",
       "      <th></th>\n",
       "      <th>Features</th>\n",
       "      <th>VIF</th>\n",
       "    </tr>\n",
       "  </thead>\n",
       "  <tbody>\n",
       "    <tr>\n",
       "      <td>11</td>\n",
       "      <td>Last Notable Activity_Email Opened</td>\n",
       "      <td>10.84</td>\n",
       "    </tr>\n",
       "    <tr>\n",
       "      <td>8</td>\n",
       "      <td>Last Activity_Email Opened</td>\n",
       "      <td>9.13</td>\n",
       "    </tr>\n",
       "    <tr>\n",
       "      <td>13</td>\n",
       "      <td>Last Notable Activity_SMS Sent</td>\n",
       "      <td>8.66</td>\n",
       "    </tr>\n",
       "    <tr>\n",
       "      <td>3</td>\n",
       "      <td>Lead Origin_Landing Page Submission</td>\n",
       "      <td>7.56</td>\n",
       "    </tr>\n",
       "    <tr>\n",
       "      <td>10</td>\n",
       "      <td>Last Activity_SMS Sent</td>\n",
       "      <td>7.41</td>\n",
       "    </tr>\n",
       "    <tr>\n",
       "      <td>2</td>\n",
       "      <td>Page Views Per Visit</td>\n",
       "      <td>6.19</td>\n",
       "    </tr>\n",
       "    <tr>\n",
       "      <td>0</td>\n",
       "      <td>TotalVisits</td>\n",
       "      <td>4.08</td>\n",
       "    </tr>\n",
       "    <tr>\n",
       "      <td>12</td>\n",
       "      <td>Last Notable Activity_Modified</td>\n",
       "      <td>4.01</td>\n",
       "    </tr>\n",
       "    <tr>\n",
       "      <td>1</td>\n",
       "      <td>Total Time Spent on Website</td>\n",
       "      <td>2.30</td>\n",
       "    </tr>\n",
       "    <tr>\n",
       "      <td>6</td>\n",
       "      <td>Lead Source_Reference</td>\n",
       "      <td>1.46</td>\n",
       "    </tr>\n",
       "    <tr>\n",
       "      <td>4</td>\n",
       "      <td>Lead Source_Olark Chat</td>\n",
       "      <td>1.30</td>\n",
       "    </tr>\n",
       "    <tr>\n",
       "      <td>7</td>\n",
       "      <td>Last Activity_Email Bounced</td>\n",
       "      <td>1.20</td>\n",
       "    </tr>\n",
       "    <tr>\n",
       "      <td>9</td>\n",
       "      <td>Last Activity_Others</td>\n",
       "      <td>1.05</td>\n",
       "    </tr>\n",
       "    <tr>\n",
       "      <td>5</td>\n",
       "      <td>Lead Source_Others</td>\n",
       "      <td>1.04</td>\n",
       "    </tr>\n",
       "  </tbody>\n",
       "</table>\n",
       "</div>"
      ],
      "text/plain": [
       "                               Features    VIF\n",
       "11   Last Notable Activity_Email Opened  10.84\n",
       "8            Last Activity_Email Opened   9.13\n",
       "13       Last Notable Activity_SMS Sent   8.66\n",
       "3   Lead Origin_Landing Page Submission   7.56\n",
       "10               Last Activity_SMS Sent   7.41\n",
       "2                  Page Views Per Visit   6.19\n",
       "0                           TotalVisits   4.08\n",
       "12       Last Notable Activity_Modified   4.01\n",
       "1           Total Time Spent on Website   2.30\n",
       "6                 Lead Source_Reference   1.46\n",
       "4                Lead Source_Olark Chat   1.30\n",
       "7           Last Activity_Email Bounced   1.20\n",
       "9                  Last Activity_Others   1.05\n",
       "5                    Lead Source_Others   1.04"
      ]
     },
     "execution_count": 74,
     "metadata": {},
     "output_type": "execute_result"
    }
   ],
   "source": [
    "# Checking VIF in model-1 \n",
    "vif = pd.DataFrame()\n",
    "vif['Features'] = X_train[cols].columns\n",
    "vif['VIF'] = [variance_inflation_factor(X_train[cols].values, i) for i in range(X_train[cols].shape[1])]\n",
    "vif['VIF'] = round(vif['VIF'], 2)\n",
    "vif = vif.sort_values(by = \"VIF\", ascending = False)\n",
    "vif"
   ]
  },
  {
   "cell_type": "markdown",
   "metadata": {},
   "source": [
    "Still high VIF obsevred, we can further refine the model"
   ]
  },
  {
   "cell_type": "markdown",
   "metadata": {},
   "source": [
    "### Model-2 : Dropped  'Last Activity Unreachable'\n",
    "\n",
    "Removing one predictor a time and evaluating.\n",
    "\n",
    "Giving higher priority to significance.\n",
    "\n",
    "So removed, Last Activity Unreachable"
   ]
  },
  {
   "cell_type": "code",
   "execution_count": 75,
   "metadata": {},
   "outputs": [
    {
     "ename": "ValueError",
     "evalue": "list.remove(x): x not in list",
     "output_type": "error",
     "traceback": [
      "\u001b[1;31m---------------------------------------------------------------------------\u001b[0m",
      "\u001b[1;31mValueError\u001b[0m                                Traceback (most recent call last)",
      "\u001b[1;32m<ipython-input-75-766c33802e23>\u001b[0m in \u001b[0;36m<module>\u001b[1;34m\u001b[0m\n\u001b[0;32m      1\u001b[0m \u001b[1;31m# Updating selected features by removing last Activity_unreachable\u001b[0m\u001b[1;33m\u001b[0m\u001b[1;33m\u001b[0m\u001b[1;33m\u001b[0m\u001b[0m\n\u001b[1;32m----> 2\u001b[1;33m \u001b[0mcols\u001b[0m\u001b[1;33m.\u001b[0m\u001b[0mremove\u001b[0m\u001b[1;33m(\u001b[0m\u001b[1;34m'Last Activity_Unreachable'\u001b[0m\u001b[1;33m)\u001b[0m\u001b[1;33m\u001b[0m\u001b[1;33m\u001b[0m\u001b[0m\n\u001b[0m",
      "\u001b[1;31mValueError\u001b[0m: list.remove(x): x not in list"
     ]
    }
   ],
   "source": [
    "# Updating selected features by removing last Activity_unreachable\n",
    "cols.remove('Last Activity_Unreachable')\n"
   ]
  },
  {
   "cell_type": "code",
   "execution_count": null,
   "metadata": {},
   "outputs": [],
   "source": [
    "# Model 2\n",
    "\n",
    "# Adding intercept\n",
    "X_train_sm = sm.add_constant(X_train[cols])\n",
    "\n",
    "# Actual logistic regression model\n",
    "logMod_2 = sm.GLM(Y_train,X_train_sm, family = sm.families.Binomial())\n",
    "result = logMod_2.fit()\n",
    "result.summary()"
   ]
  },
  {
   "cell_type": "markdown",
   "metadata": {},
   "source": [
    "* All predictors are significant\n",
    "* All signs of the coefficient have remains unchanged"
   ]
  },
  {
   "cell_type": "code",
   "execution_count": null,
   "metadata": {},
   "outputs": [],
   "source": [
    "# Checking VIF in model-2\n",
    "vif = pd.DataFrame()\n",
    "vif['Features'] = X_train[cols].columns\n",
    "vif['VIF'] = [variance_inflation_factor(X_train[cols].values, i) for i in range(X_train[cols].shape[1])]\n",
    "vif['VIF'] = round(vif['VIF'], 2)\n",
    "vif = vif.sort_values(by = \"VIF\", ascending = False)\n",
    "vif"
   ]
  },
  {
   "cell_type": "markdown",
   "metadata": {},
   "source": [
    "\n",
    "\n",
    "###### Remove 'Last Activity_SMS Sent'   : VIF Cut off @ 3\n",
    "\n",
    "Using a cut off of 3 for VIF\n",
    "\n",
    "\n",
    "\n",
    "\n",
    "\n",
    "### Model-3 : Dropped  - 'Last Activity_SMS Sent'\n",
    "\n",
    "\n"
   ]
  },
  {
   "cell_type": "code",
   "execution_count": null,
   "metadata": {},
   "outputs": [],
   "source": [
    "# Selected features updated\n",
    "cols.remove('Last Activity_SMS Sent')"
   ]
  },
  {
   "cell_type": "code",
   "execution_count": null,
   "metadata": {
    "scrolled": false
   },
   "outputs": [],
   "source": [
    "# MOdel-3\n",
    "\n",
    "X_train_sm = sm.add_constant(X_train[cols])\n",
    "logMod_3 = sm.GLM(Y_train,X_train_sm, family = sm.families.Binomial())\n",
    "result = logMod_3.fit()\n",
    "result.summary()"
   ]
  },
  {
   "cell_type": "markdown",
   "metadata": {},
   "source": [
    "* All predictors significant\n",
    "* All the sign of the coefficient has remain same"
   ]
  },
  {
   "cell_type": "code",
   "execution_count": null,
   "metadata": {},
   "outputs": [],
   "source": [
    "# Checking VIF in model-3\n",
    "vif = pd.DataFrame()\n",
    "vif['Features'] = X_train[cols].columns\n",
    "vif['VIF'] = [variance_inflation_factor(X_train[cols].values, i) for i in range(X_train[cols].shape[1])]\n",
    "vif['VIF'] = round(vif['VIF'], 2)\n",
    "vif = vif.sort_values(by = \"VIF\", ascending = False)\n",
    "vif"
   ]
  },
  {
   "cell_type": "markdown",
   "metadata": {},
   "source": [
    "###### High VIF to be dropped from selected features \n",
    "\n",
    "* Page Views Per Visit highest VIF. \n",
    "* VIF Accepted less 3\n",
    "\n",
    "### Model -4  : ' Page Views Per Visit' dropped"
   ]
  },
  {
   "cell_type": "code",
   "execution_count": null,
   "metadata": {},
   "outputs": [],
   "source": [
    "# update selected features\n",
    "cols.remove('Page Views Per Visit')"
   ]
  },
  {
   "cell_type": "code",
   "execution_count": null,
   "metadata": {
    "scrolled": false
   },
   "outputs": [],
   "source": [
    "# Model-4\n",
    "\n",
    "X_train_sm = sm.add_constant(X_train[cols])\n",
    "logMod_4 = sm.GLM(Y_train,X_train_sm, family = sm.families.Binomial())\n",
    "result = logMod_4.fit()\n",
    "result.summary()"
   ]
  },
  {
   "cell_type": "markdown",
   "metadata": {},
   "source": [
    "Model-4 Summary Note\n",
    "\n",
    "* All predictors significant\n",
    "* All the sign of the coefficient has remain same"
   ]
  },
  {
   "cell_type": "code",
   "execution_count": null,
   "metadata": {},
   "outputs": [],
   "source": [
    "# Checking VIF in model-4\n",
    "vif = pd.DataFrame()\n",
    "vif['Features'] = X_train[cols].columns\n",
    "vif['VIF'] = [variance_inflation_factor(X_train[cols].values, i) for i in range(X_train[cols].shape[1])]\n",
    "vif['VIF'] = round(vif['VIF'], 2)\n",
    "vif = vif.sort_values(by = \"VIF\", ascending = False)\n",
    "vif"
   ]
  },
  {
   "cell_type": "markdown",
   "metadata": {},
   "source": [
    "\n",
    "\n",
    "Lead Origin_Landing Page Submission VIF > Accepted less 3\n",
    "\n",
    "#### Model -5  :  \t'Lead Origin_Landing Page Submission' dropped"
   ]
  },
  {
   "cell_type": "code",
   "execution_count": null,
   "metadata": {},
   "outputs": [],
   "source": [
    "# selected features updated\n",
    "\n",
    "cols.remove('Lead Origin_Landing Page Submission')"
   ]
  },
  {
   "cell_type": "code",
   "execution_count": null,
   "metadata": {},
   "outputs": [],
   "source": [
    "# Model 5\n",
    "\n",
    "X_train_sm = sm.add_constant(X_train[cols])\n",
    "logMod_5 = sm.GLM(Y_train,X_train_sm, family = sm.families.Binomial())\n",
    "result = logMod_5.fit()\n",
    "result.summary()"
   ]
  },
  {
   "cell_type": "markdown",
   "metadata": {},
   "source": [
    "Model-5 Summary Note\n",
    "\n",
    "* All predictors significant\n",
    "* All the sign of the coefficient has remain same"
   ]
  },
  {
   "cell_type": "code",
   "execution_count": null,
   "metadata": {
    "scrolled": true
   },
   "outputs": [],
   "source": [
    "# Checking VIF in model-5\n",
    "vif = pd.DataFrame()\n",
    "vif['Features'] = X_train[cols].columns\n",
    "vif['VIF'] = [variance_inflation_factor(X_train[cols].values, i) for i in range(X_train[cols].shape[1])]\n",
    "vif['VIF'] = round(vif['VIF'], 2)\n",
    "vif = vif.sort_values(by = \"VIF\", ascending = False)\n",
    "vif"
   ]
  },
  {
   "cell_type": "markdown",
   "metadata": {},
   "source": [
    "###  End of model iteration\n",
    "* All predictors significant at 5% signficane\n",
    "* No coefficient with very small value\n",
    "* VIF of all predictors less than accpeted threshold of 3"
   ]
  },
  {
   "cell_type": "markdown",
   "metadata": {},
   "source": [
    "### Model Evaluation\n",
    "\n",
    "We will evaluate on :\n",
    "1. Higher Precision - Target of 80% ( So 80% of the effort of lead is converted)\n",
    "2. Higher Recall / Sensitivity : So that all the true potential leads are picked up\n",
    "3. Accuracy: for an overall sense\n",
    "\n",
    "But since Precision and Recall are inverse in nature, we will look for an optimal value\n"
   ]
  },
  {
   "cell_type": "markdown",
   "metadata": {},
   "source": [
    "#### Prediction on train set : Probability Score\n",
    "\n",
    "probability Scores from the logistic regression"
   ]
  },
  {
   "cell_type": "code",
   "execution_count": null,
   "metadata": {},
   "outputs": [],
   "source": [
    "# Getting the predicted values on the train set\n",
    "Y_train_pred = result.predict(X_train_sm)\n",
    "Y_train_pred[:10]"
   ]
  },
  {
   "cell_type": "markdown",
   "metadata": {},
   "source": [
    "##### A dataframe that contains Actual conversion and probability score\n",
    "\n",
    "To compare and evaluate model at various cut off Value"
   ]
  },
  {
   "cell_type": "code",
   "execution_count": null,
   "metadata": {
    "scrolled": false
   },
   "outputs": [],
   "source": [
    "Y_train_pred_final = pd.DataFrame({'Converted':Y_train.values, 'Convert_Prob':Y_train_pred})\n",
    "Y_train_pred_final.head()"
   ]
  },
  {
   "cell_type": "markdown",
   "metadata": {},
   "source": [
    "####  Optimal Cut Off Value"
   ]
  },
  {
   "cell_type": "code",
   "execution_count": null,
   "metadata": {
    "scrolled": true
   },
   "outputs": [],
   "source": [
    "# probability score at various  cutoffs \n",
    "\n",
    "numbers = [float(x)/10 for x in range(10)]\n",
    "for i in numbers:\n",
    "    Y_train_pred_final[i]= Y_train_pred_final.Convert_Prob.map(lambda x: 1 if x > i else 0)\n"
   ]
  },
  {
   "cell_type": "code",
   "execution_count": null,
   "metadata": {
    "scrolled": false
   },
   "outputs": [],
   "source": [
    "Y_train_pred_final.head()"
   ]
  },
  {
   "cell_type": "code",
   "execution_count": null,
   "metadata": {},
   "outputs": [],
   "source": [
    "# calculate accuracy sensitivity/recall  and precision for various probability cutoffs.\n",
    "cutoff_df = pd.DataFrame( columns = ['prob','accuracy','recall','precision'])\n",
    "from sklearn.metrics import confusion_matrix\n",
    "\n",
    "# TP = confusion[1,1] # true positive \n",
    "# TN = confusion[0,0] # true negatives\n",
    "# FP = confusion[0,1] # false positives\n",
    "# FN = confusion[1,0] # false negatives\n",
    "\n",
    "num = [0.0,0.1,0.2,0.3,0.4,0.5,0.6,0.7,0.8,0.9]\n",
    "for i in num:\n",
    "    \n",
    "    accuracy = metrics.accuracy_score(Y_train_pred_final.Converted, Y_train_pred_final[i] )\n",
    "    \n",
    "    precision = metrics.precision_score(Y_train_pred_final.Converted, Y_train_pred_final[i] )\n",
    "    recall = metrics.recall_score(Y_train_pred_final.Converted, Y_train_pred_final[i] )\n",
    "    cutoff_df.loc[i] =[ i ,accuracy,recall, precision]\n",
    "print(cutoff_df)"
   ]
  },
  {
   "cell_type": "code",
   "execution_count": null,
   "metadata": {
    "scrolled": false
   },
   "outputs": [],
   "source": [
    "# Let's plot accuracy, sensitivity/recall  and precision for various probabilities.\n",
    "cutoff_df.plot.line(x='prob', y=['accuracy','recall','precision'])\n",
    "plt.show()"
   ]
  },
  {
   "cell_type": "markdown",
   "metadata": {},
   "source": [
    "#### Optimal Value around 0.45\n",
    "\n",
    "\n",
    "Further adjustement to get score closed to required precision of 80% \n",
    "\n"
   ]
  },
  {
   "cell_type": "code",
   "execution_count": null,
   "metadata": {},
   "outputs": [],
   "source": [
    "Y_train_pred_final['predicted'] = Y_train_pred_final.Convert_Prob.map(lambda x: 1 if x > 0.45 else 0)\n",
    "Y_train_pred_final.head()"
   ]
  },
  {
   "cell_type": "markdown",
   "metadata": {},
   "source": []
  },
  {
   "cell_type": "code",
   "execution_count": null,
   "metadata": {
    "scrolled": true
   },
   "outputs": [],
   "source": [
    "# Recall\n",
    "metrics.recall_score(Y_train_pred_final.Converted, Y_train_pred_final.predicted ).round(2)"
   ]
  },
  {
   "cell_type": "markdown",
   "metadata": {},
   "source": [
    "###### Recall / Sensitivity : 76%\n",
    "\n",
    "\n",
    "This is acceptable"
   ]
  },
  {
   "cell_type": "code",
   "execution_count": null,
   "metadata": {
    "scrolled": true
   },
   "outputs": [],
   "source": [
    "# Precision\n",
    "metrics.precision_score(Y_train_pred_final.Converted, Y_train_pred_final.predicted ).round(2)"
   ]
  },
  {
   "cell_type": "markdown",
   "metadata": {},
   "source": [
    "###### Precsison 75% : Though\n",
    "\n",
    "Further increase, would mean losing out on valid leads\n",
    "So this quite close to desired 80% conversion on given lead"
   ]
  },
  {
   "cell_type": "code",
   "execution_count": null,
   "metadata": {
    "scrolled": true
   },
   "outputs": [],
   "source": [
    "metrics.accuracy_score(Y_train_pred_final.Converted, Y_train_pred_final.predicted ).round(2)"
   ]
  },
  {
   "cell_type": "markdown",
   "metadata": {},
   "source": [
    "###### Model Accuracy 78%\n",
    "Wich is acceptable"
   ]
  },
  {
   "cell_type": "markdown",
   "metadata": {},
   "source": [
    "###### Note on Evaluation on train set:\n",
    "\n",
    "The evaluation score are reasonable and acceptable, \n",
    "    * given that there were large missing values in the business wise  important columns \n",
    "    * Imabalance columns were not used and just dropped"
   ]
  },
  {
   "cell_type": "markdown",
   "metadata": {},
   "source": [
    "### Evaluation :  Making predictions on the test set"
   ]
  },
  {
   "cell_type": "code",
   "execution_count": null,
   "metadata": {
    "scrolled": false
   },
   "outputs": [],
   "source": [
    "# X features of Test set\n",
    "# Data is already scaled earlier by MInMax Scaler\n",
    "X_test[cols]"
   ]
  },
  {
   "cell_type": "code",
   "execution_count": null,
   "metadata": {},
   "outputs": [],
   "source": [
    "# Adding a constant for statsmodel prediction\n",
    "X_test_sm = sm.add_constant(X_test[cols])"
   ]
  },
  {
   "cell_type": "code",
   "execution_count": null,
   "metadata": {
    "scrolled": true
   },
   "outputs": [],
   "source": [
    "# Actual prediction , probability score on test set\n",
    "Y_test_pred = result.predict(X_test_sm)"
   ]
  },
  {
   "cell_type": "code",
   "execution_count": null,
   "metadata": {
    "scrolled": false
   },
   "outputs": [],
   "source": [
    "Y_test_pred"
   ]
  },
  {
   "cell_type": "code",
   "execution_count": null,
   "metadata": {
    "scrolled": true
   },
   "outputs": [],
   "source": [
    "# Setting a data frame to compare actual coverted and predicted conversion\n",
    "Y_test_pred_final = pd.DataFrame({'Converted':Y_test.values, 'Convert_Prob':Y_test_pred})\n",
    "Y_test_pred_final.head()"
   ]
  },
  {
   "cell_type": "code",
   "execution_count": null,
   "metadata": {},
   "outputs": [],
   "source": [
    "# Prediction as Optimal cut off of 0.45\n",
    "Y_test_pred_final['predicted'] = Y_test_pred_final.Convert_Prob.map(lambda x: 1 if x > 0.45 else 0)\n",
    "Y_test_pred_final.head()"
   ]
  },
  {
   "cell_type": "code",
   "execution_count": null,
   "metadata": {},
   "outputs": [],
   "source": [
    "# Recall on Test Set\n",
    "metrics.recall_score(Y_test_pred_final.Converted, Y_test_pred_final.predicted ).round(2)"
   ]
  },
  {
   "cell_type": "code",
   "execution_count": null,
   "metadata": {},
   "outputs": [],
   "source": [
    "# Precision on Test Set\n",
    "metrics.precision_score(Y_test_pred_final.Converted, Y_test_pred_final.predicted ).round(2)"
   ]
  },
  {
   "cell_type": "code",
   "execution_count": null,
   "metadata": {
    "scrolled": true
   },
   "outputs": [],
   "source": [
    "# accuracy on Test Set\n",
    "metrics.accuracy_score(Y_test_pred_final.Converted, Y_test_pred_final.predicted ).round(2)"
   ]
  },
  {
   "cell_type": "markdown",
   "metadata": {},
   "source": [
    "#### Test Set Evaluation Result &  Analysis\n",
    "\n",
    "1. For the given business objective of achieving 80% conversion from all the lead is possible. But since It can inversly Sensitivity, Precision should not be at the expense of lower revenue. Hence, we need to balance an find the optimal cut off\n",
    "\n",
    "2. Recall 75% & Precison of 73% on the test set is acceptable, as it is based on the optimal cut off"
   ]
  },
  {
   "cell_type": "markdown",
   "metadata": {},
   "source": [
    "##### Model is accepted\n",
    "\n",
    "\n",
    "The model opmtise the inversely proporional Sensitivity/Recall  and Precision\n",
    "\n",
    "\n",
    "\n",
    "\n",
    "\n",
    "1. Conversion should likely impove by 45%. Though not exactly as per required conversion of 80% given lead, it is close to it\n",
    "2. The model ensure a optimal Revenue through reasoable sensitiviyt of 75%\n",
    "\n",
    "3. Number of predictors is 10 , which is acceptable, as without it we will further miss the business obvjective\n",
    "\n",
    "\n",
    "###### Further Model Improvement : Steps\n",
    "\n",
    "Data Treatment\n",
    "1. Imbalance Treatmeant: Many columsn were dropped due to imbalance. Treatment instead of dropping \n",
    "\n",
    "\n",
    "Data Collection & Creation\n",
    "1. A lot of subjective columns didnt result as signicant predictors. Assement quaity for such columns can be improved\n",
    "\n",
    "2. Missing values in key columns, esp city & specelisation needs to be collected more deligently\n",
    "\n",
    "\n",
    "But under the given constraints, the model is accepted\n"
   ]
  },
  {
   "cell_type": "markdown",
   "metadata": {},
   "source": [
    " ### Lead Score \n",
    " \n",
    " \n",
    " Generating Lead Score\n",
    " \n",
    " 1. Get the data of lead with required features\n",
    " \n",
    "      ['TotalVisits', Total Time Spent on Website', 'Lead Source_Olark Chat',  'Lead Source_Others', 'Lead Source_Reference',  'Last Activity_Email Bounced', 'Last Activity_Email Link Clicked',  'Last Activity_Email Opened',  'Last Activity_Others',  'Last Notable Activity_SMS Sent',  3. Prediction of regression model is a probability score which can be the basis , 2. Convert to percentage]\n",
    " \n",
    " \n",
    " 3. Prediction of the regression model  is a probability score which can be the basis\n",
    " 2. Convert to percentage\n",
    " \n",
    " \n",
    " ##### Use an optimal lead score of 45%  to determin Hot leads\n",
    " Pursue only the lead with scores above 45%\n",
    " "
   ]
  },
  {
   "cell_type": "markdown",
   "metadata": {},
   "source": [
    "Lead Score- Probability in percentage -P\n",
    "\n",
    "\n",
    "$$P=\\frac{100}{ 1 - e^ {4.9995\t\\times\tLead Source Reference + 4.5067\t\\times\tTotal Time Spent on Website + 2.1948\t\\times\tLead Source Others + 1.9589\t\\times\tLead Source Olark Chat + 1.7661\t\\times\tLast Notable Activity_SMS Sent -1.6844\t\\times\tLast Activity Email Bounced + 1.2307\t\\times\tLast Activity Others + 0.7204\t\\times\tTotalVisits + 0.6087\t\\times\tLast Activity Email Opened + 0.5445\t\\times\tLast Activity Email Link Clicked -2.7329}}$$\n",
    "\n",
    "\n"
   ]
  }
 ],
 "metadata": {
  "kernelspec": {
   "display_name": "Python 3",
   "language": "python",
   "name": "python3"
  },
  "language_info": {
   "codemirror_mode": {
    "name": "ipython",
    "version": 3
   },
   "file_extension": ".py",
   "mimetype": "text/x-python",
   "name": "python",
   "nbconvert_exporter": "python",
   "pygments_lexer": "ipython3",
   "version": "3.7.4"
  }
 },
 "nbformat": 4,
 "nbformat_minor": 2
}
